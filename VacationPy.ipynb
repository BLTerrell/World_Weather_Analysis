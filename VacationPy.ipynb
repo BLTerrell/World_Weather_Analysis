{
 "cells": [
  {
   "cell_type": "code",
   "execution_count": 1,
   "metadata": {},
   "outputs": [],
   "source": [
    "# Import dependencies\n",
    "import pandas as pd\n",
    "import gmaps\n",
    "import requests\n",
    "# Import the API key\n",
    "from config import g_key"
   ]
  },
  {
   "cell_type": "code",
   "execution_count": 2,
   "metadata": {},
   "outputs": [
    {
     "output_type": "execute_result",
     "data": {
      "text/plain": [
       "   City_ID     City Country                 Date      Lat       Lng  Max Temp  \\\n",
       "0        0  Husavik      IS  2021-01-27 21:07:40  66.0449  -17.3389     19.40   \n",
       "1        1   Lompoc      US  2021-01-27 20:54:10  34.6391 -120.4579     51.80   \n",
       "2        2   Weiser      US  2021-01-27 21:08:32  44.2510 -116.9693     46.40   \n",
       "3        3  Ushuaia      AR  2021-01-27 21:08:33 -54.8000  -68.3000     41.00   \n",
       "4        4     Hofn      IS  2021-01-27 21:08:05  64.2539  -15.2082     25.77   \n",
       "\n",
       "   Humidity  Cloudiness  Wind Speed  \n",
       "0        86          75        8.25  \n",
       "1        93          90       13.80  \n",
       "2        53          75       24.16  \n",
       "3        87          75       24.16  \n",
       "4        89           1       14.12  "
      ],
      "text/html": "<div>\n<style scoped>\n    .dataframe tbody tr th:only-of-type {\n        vertical-align: middle;\n    }\n\n    .dataframe tbody tr th {\n        vertical-align: top;\n    }\n\n    .dataframe thead th {\n        text-align: right;\n    }\n</style>\n<table border=\"1\" class=\"dataframe\">\n  <thead>\n    <tr style=\"text-align: right;\">\n      <th></th>\n      <th>City_ID</th>\n      <th>City</th>\n      <th>Country</th>\n      <th>Date</th>\n      <th>Lat</th>\n      <th>Lng</th>\n      <th>Max Temp</th>\n      <th>Humidity</th>\n      <th>Cloudiness</th>\n      <th>Wind Speed</th>\n    </tr>\n  </thead>\n  <tbody>\n    <tr>\n      <th>0</th>\n      <td>0</td>\n      <td>Husavik</td>\n      <td>IS</td>\n      <td>2021-01-27 21:07:40</td>\n      <td>66.0449</td>\n      <td>-17.3389</td>\n      <td>19.40</td>\n      <td>86</td>\n      <td>75</td>\n      <td>8.25</td>\n    </tr>\n    <tr>\n      <th>1</th>\n      <td>1</td>\n      <td>Lompoc</td>\n      <td>US</td>\n      <td>2021-01-27 20:54:10</td>\n      <td>34.6391</td>\n      <td>-120.4579</td>\n      <td>51.80</td>\n      <td>93</td>\n      <td>90</td>\n      <td>13.80</td>\n    </tr>\n    <tr>\n      <th>2</th>\n      <td>2</td>\n      <td>Weiser</td>\n      <td>US</td>\n      <td>2021-01-27 21:08:32</td>\n      <td>44.2510</td>\n      <td>-116.9693</td>\n      <td>46.40</td>\n      <td>53</td>\n      <td>75</td>\n      <td>24.16</td>\n    </tr>\n    <tr>\n      <th>3</th>\n      <td>3</td>\n      <td>Ushuaia</td>\n      <td>AR</td>\n      <td>2021-01-27 21:08:33</td>\n      <td>-54.8000</td>\n      <td>-68.3000</td>\n      <td>41.00</td>\n      <td>87</td>\n      <td>75</td>\n      <td>24.16</td>\n    </tr>\n    <tr>\n      <th>4</th>\n      <td>4</td>\n      <td>Hofn</td>\n      <td>IS</td>\n      <td>2021-01-27 21:08:05</td>\n      <td>64.2539</td>\n      <td>-15.2082</td>\n      <td>25.77</td>\n      <td>89</td>\n      <td>1</td>\n      <td>14.12</td>\n    </tr>\n  </tbody>\n</table>\n</div>"
     },
     "metadata": {},
     "execution_count": 2
    }
   ],
   "source": [
    "# Store CSV you saved tin part one to a DataFrame\n",
    "city_data_df = pd.read_csv(\"weather_data/cities.csv\")\n",
    "city_data_df.head()"
   ]
  },
  {
   "cell_type": "code",
   "execution_count": 3,
   "metadata": {},
   "outputs": [
    {
     "output_type": "execute_result",
     "data": {
      "text/plain": [
       "City_ID         int64\n",
       "City           object\n",
       "Country        object\n",
       "Date           object\n",
       "Lat           float64\n",
       "Lng           float64\n",
       "Max Temp      float64\n",
       "Humidity        int64\n",
       "Cloudiness      int64\n",
       "Wind Speed    float64\n",
       "dtype: object"
      ]
     },
     "metadata": {},
     "execution_count": 3
    }
   ],
   "source": [
    "city_data_df.dtypes"
   ]
  },
  {
   "cell_type": "code",
   "execution_count": 4,
   "metadata": {},
   "outputs": [],
   "source": [
    "# Configure gmaps ti use your Google API key\n",
    "gmaps.configure(api_key=g_key)"
   ]
  },
  {
   "cell_type": "code",
   "execution_count": 5,
   "metadata": {},
   "outputs": [
    {
     "output_type": "display_data",
     "data": {
      "text/plain": "Figure(layout=FigureLayout(height='420px'))",
      "application/vnd.jupyter.widget-view+json": {
       "version_major": 2,
       "version_minor": 0,
       "model_id": "9c4621b9abb846cdb8cad34f0b4d64d2"
      }
     },
     "metadata": {}
    }
   ],
   "source": [
    "# Get maximum termperature and remove negative values\n",
    "max_temp = city_data_df[\"Max Temp\"]\n",
    "temps = []\n",
    "for temp in max_temp:\n",
    "    # uses whichever value is larger b/w temp and 0 in order to get rid of negative values\n",
    "    temps.append(max(temp,0))\n",
    "\n",
    "# 1. Assign the locations to an array of latitude and longitude pairs.\n",
    "locations = city_data_df[[\"Lat\",\"Lng\"]]\n",
    "# 2. Assign the weights variable to some values. (Max Temp, Humidity, Cloudiness, Wind Speed)\n",
    "max_temp = city_data_df[\"Max Temp\"]\n",
    "# 3. Assign the figure variable to the gmaps.figure() attribute.\n",
    "fig = gmaps.figure(center=(30.0,31.0), zoom_level=1.75)\n",
    "# 4. Assign the heatmap_layer variable to the heatmap_layer attribute and add in the locations.\n",
    "heat_layer = gmaps.heatmap_layer(locations, weights=temps, dissipating=False, max_intensity=300, point_radius=4)\n",
    "\n",
    "# 5. Add the heatmap layer.\n",
    "fig.add_layer(heat_layer)\n",
    "# 6. Call the figure to plot the data.\n",
    "fig"
   ]
  },
  {
   "cell_type": "code",
   "execution_count": 11,
   "metadata": {},
   "outputs": [
    {
     "output_type": "display_data",
     "data": {
      "text/plain": "Figure(layout=FigureLayout(height='420px'))",
      "application/vnd.jupyter.widget-view+json": {
       "version_major": 2,
       "version_minor": 0,
       "model_id": "32f98418e4944f0990db82a3f4829289"
      }
     },
     "metadata": {}
    }
   ],
   "source": [
    "# 1. Assign the locations to an array of latitude and longitude pairs.\n",
    "locations = city_data_df[[\"Lat\",\"Lng\"]]\n",
    "# 2. Assign the weights variable to some values. (Max Temp, Humidity, Cloudiness, Wind Speed)\n",
    "humidity = city_data_df[\"Humidity\"]\n",
    "# 3. Assign the figure variable to the gmaps.figure() attribute.\n",
    "fig = gmaps.figure(center=(30.0,31.0), zoom_level=1.75)\n",
    "# 4. Assign the heatmap_layer variable to the heatmap_layer attribute and add in the locations.\n",
    "heat_layer = gmaps.heatmap_layer(locations, weights=humidity, dissipating=False, max_intensity=300, point_radius=4)\n",
    "\n",
    "# 5. Add the heatmap layer.\n",
    "fig.add_layer(heat_layer)\n",
    "# 6. Call the figure to plot the data.\n",
    "fig"
   ]
  },
  {
   "cell_type": "code",
   "execution_count": 12,
   "metadata": {},
   "outputs": [
    {
     "output_type": "display_data",
     "data": {
      "text/plain": "Figure(layout=FigureLayout(height='420px'))",
      "application/vnd.jupyter.widget-view+json": {
       "version_major": 2,
       "version_minor": 0,
       "model_id": "60d4f0b7b4b342e495c84b3bf0955bb3"
      }
     },
     "metadata": {}
    }
   ],
   "source": [
    "# 1. Assign the locations to an array of latitude and longitude pairs.\n",
    "locations = city_data_df[[\"Lat\",\"Lng\"]]\n",
    "# 2. Assign the weights variable to some values. (Max Temp, Humidity, Cloudiness, Wind Speed)\n",
    "clouds = city_data_df[\"Cloudiness\"]\n",
    "# 3. Assign the figure variable to the gmaps.figure() attribute.\n",
    "fig = gmaps.figure(center=(30.0,31.0), zoom_level=1.75)\n",
    "# 4. Assign the heatmap_layer variable to the heatmap_layer attribute and add in the locations.\n",
    "heat_layer = gmaps.heatmap_layer(locations, weights=clouds, dissipating=False, max_intensity=300, point_radius=4)\n",
    "\n",
    "# 5. Add the heatmap layer.\n",
    "fig.add_layer(heat_layer)\n",
    "# 6. Call the figure to plot the data.\n",
    "fig"
   ]
  },
  {
   "cell_type": "code",
   "execution_count": 13,
   "metadata": {},
   "outputs": [
    {
     "output_type": "display_data",
     "data": {
      "text/plain": "Figure(layout=FigureLayout(height='420px'))",
      "application/vnd.jupyter.widget-view+json": {
       "version_major": 2,
       "version_minor": 0,
       "model_id": "6d40346b61954886b78306b375147f55"
      }
     },
     "metadata": {}
    }
   ],
   "source": [
    "# 1. Assign the locations to an array of latitude and longitude pairs.\n",
    "locations = city_data_df[[\"Lat\",\"Lng\"]]\n",
    "# 2. Assign the weights variable to some values. (Max Temp, Humidity, Cloudiness, Wind Speed)\n",
    "wind = city_data_df[\"Wind Speed\"]\n",
    "# 3. Assign the figure variable to the gmaps.figure() attribute.\n",
    "fig = gmaps.figure(center=(30.0,31.0), zoom_level=1.75)\n",
    "# 4. Assign the heatmap_layer variable to the heatmap_layer attribute and add in the locations.\n",
    "heat_layer = gmaps.heatmap_layer(locations, weights=wind, dissipating=False, max_intensity=300, point_radius=4)\n",
    "\n",
    "# 5. Add the heatmap layer.\n",
    "fig.add_layer(heat_layer)\n",
    "# 6. Call the figure to plot the data.\n",
    "fig"
   ]
  },
  {
   "cell_type": "code",
   "execution_count": 14,
   "metadata": {},
   "outputs": [],
   "source": [
    "# Ask the customer to add a minimum and maximum temperature value\n",
    "min_temp = float(input(\"What is the minimum temperature you would like for your trip? \"))\n",
    "max_temp = float(input(\"What is the maximum temperature you would like for your trip? \"))"
   ]
  },
  {
   "cell_type": "code",
   "execution_count": 18,
   "metadata": {},
   "outputs": [
    {
     "output_type": "execute_result",
     "data": {
      "text/plain": [
       "    City_ID             City Country                 Date      Lat       Lng  \\\n",
       "9         9       Luganville      VU  2021-01-27 21:08:34 -15.5333  167.1667   \n",
       "10       10          Rikitea      PF  2021-01-27 21:07:30 -23.1203 -134.9692   \n",
       "11       11       Butaritari      KI  2021-01-27 21:07:43   3.0707  172.7902   \n",
       "13       13  Arraial Do Cabo      BR  2021-01-27 21:08:35 -22.9661  -42.0278   \n",
       "14       14            Sosua      DO  2021-01-27 21:08:35  19.7667  -70.5167   \n",
       "15       15            Kapaa      US  2021-01-27 21:08:35  22.0752 -159.3190   \n",
       "19       19        Porangatu      BR  2021-01-27 21:08:36 -13.4408  -49.1486   \n",
       "21       21        Catamarca      AR  2021-01-27 21:05:08 -28.4696  -65.7852   \n",
       "29       29           Madang      PG  2021-01-27 21:08:37  -5.2246  145.7966   \n",
       "30       30       Georgetown      MY  2021-01-27 20:57:56   5.4112  100.3354   \n",
       "\n",
       "    Max Temp  Humidity  Cloudiness  Wind Speed  \n",
       "9      76.59        89         100        7.92  \n",
       "10     79.74        74          85       14.29  \n",
       "11     80.56        79          95       10.42  \n",
       "13     84.20        73           0       21.85  \n",
       "14     82.40        69          20       16.11  \n",
       "15     77.00        83          90       18.41  \n",
       "19     80.22        81          91        2.93  \n",
       "21     89.01        43         100        1.99  \n",
       "29     76.46        91          98        6.02  \n",
       "30     78.01        94          40        2.30  "
      ],
      "text/html": "<div>\n<style scoped>\n    .dataframe tbody tr th:only-of-type {\n        vertical-align: middle;\n    }\n\n    .dataframe tbody tr th {\n        vertical-align: top;\n    }\n\n    .dataframe thead th {\n        text-align: right;\n    }\n</style>\n<table border=\"1\" class=\"dataframe\">\n  <thead>\n    <tr style=\"text-align: right;\">\n      <th></th>\n      <th>City_ID</th>\n      <th>City</th>\n      <th>Country</th>\n      <th>Date</th>\n      <th>Lat</th>\n      <th>Lng</th>\n      <th>Max Temp</th>\n      <th>Humidity</th>\n      <th>Cloudiness</th>\n      <th>Wind Speed</th>\n    </tr>\n  </thead>\n  <tbody>\n    <tr>\n      <th>9</th>\n      <td>9</td>\n      <td>Luganville</td>\n      <td>VU</td>\n      <td>2021-01-27 21:08:34</td>\n      <td>-15.5333</td>\n      <td>167.1667</td>\n      <td>76.59</td>\n      <td>89</td>\n      <td>100</td>\n      <td>7.92</td>\n    </tr>\n    <tr>\n      <th>10</th>\n      <td>10</td>\n      <td>Rikitea</td>\n      <td>PF</td>\n      <td>2021-01-27 21:07:30</td>\n      <td>-23.1203</td>\n      <td>-134.9692</td>\n      <td>79.74</td>\n      <td>74</td>\n      <td>85</td>\n      <td>14.29</td>\n    </tr>\n    <tr>\n      <th>11</th>\n      <td>11</td>\n      <td>Butaritari</td>\n      <td>KI</td>\n      <td>2021-01-27 21:07:43</td>\n      <td>3.0707</td>\n      <td>172.7902</td>\n      <td>80.56</td>\n      <td>79</td>\n      <td>95</td>\n      <td>10.42</td>\n    </tr>\n    <tr>\n      <th>13</th>\n      <td>13</td>\n      <td>Arraial Do Cabo</td>\n      <td>BR</td>\n      <td>2021-01-27 21:08:35</td>\n      <td>-22.9661</td>\n      <td>-42.0278</td>\n      <td>84.20</td>\n      <td>73</td>\n      <td>0</td>\n      <td>21.85</td>\n    </tr>\n    <tr>\n      <th>14</th>\n      <td>14</td>\n      <td>Sosua</td>\n      <td>DO</td>\n      <td>2021-01-27 21:08:35</td>\n      <td>19.7667</td>\n      <td>-70.5167</td>\n      <td>82.40</td>\n      <td>69</td>\n      <td>20</td>\n      <td>16.11</td>\n    </tr>\n    <tr>\n      <th>15</th>\n      <td>15</td>\n      <td>Kapaa</td>\n      <td>US</td>\n      <td>2021-01-27 21:08:35</td>\n      <td>22.0752</td>\n      <td>-159.3190</td>\n      <td>77.00</td>\n      <td>83</td>\n      <td>90</td>\n      <td>18.41</td>\n    </tr>\n    <tr>\n      <th>19</th>\n      <td>19</td>\n      <td>Porangatu</td>\n      <td>BR</td>\n      <td>2021-01-27 21:08:36</td>\n      <td>-13.4408</td>\n      <td>-49.1486</td>\n      <td>80.22</td>\n      <td>81</td>\n      <td>91</td>\n      <td>2.93</td>\n    </tr>\n    <tr>\n      <th>21</th>\n      <td>21</td>\n      <td>Catamarca</td>\n      <td>AR</td>\n      <td>2021-01-27 21:05:08</td>\n      <td>-28.4696</td>\n      <td>-65.7852</td>\n      <td>89.01</td>\n      <td>43</td>\n      <td>100</td>\n      <td>1.99</td>\n    </tr>\n    <tr>\n      <th>29</th>\n      <td>29</td>\n      <td>Madang</td>\n      <td>PG</td>\n      <td>2021-01-27 21:08:37</td>\n      <td>-5.2246</td>\n      <td>145.7966</td>\n      <td>76.46</td>\n      <td>91</td>\n      <td>98</td>\n      <td>6.02</td>\n    </tr>\n    <tr>\n      <th>30</th>\n      <td>30</td>\n      <td>Georgetown</td>\n      <td>MY</td>\n      <td>2021-01-27 20:57:56</td>\n      <td>5.4112</td>\n      <td>100.3354</td>\n      <td>78.01</td>\n      <td>94</td>\n      <td>40</td>\n      <td>2.30</td>\n    </tr>\n  </tbody>\n</table>\n</div>"
     },
     "metadata": {},
     "execution_count": 18
    }
   ],
   "source": [
    "# Filter the data set to find the cities that fit the criteria \n",
    "preferred_cities_df = city_data_df.loc[(city_data_df[\"Max Temp\"] <= max_temp) &\n",
    "                                        (city_data_df[\"Max Temp\"] >= min_temp)]\n",
    "preferred_cities_df.head(10)"
   ]
  },
  {
   "cell_type": "code",
   "execution_count": 19,
   "metadata": {},
   "outputs": [
    {
     "output_type": "execute_result",
     "data": {
      "text/plain": [
       "City_ID       176\n",
       "City          176\n",
       "Country       176\n",
       "Date          176\n",
       "Lat           176\n",
       "Lng           176\n",
       "Max Temp      176\n",
       "Humidity      176\n",
       "Cloudiness    176\n",
       "Wind Speed    176\n",
       "dtype: int64"
      ]
     },
     "metadata": {},
     "execution_count": 19
    }
   ],
   "source": [
    "preferred_cities_df.count()"
   ]
  },
  {
   "cell_type": "code",
   "execution_count": 20,
   "metadata": {},
   "outputs": [
    {
     "output_type": "execute_result",
     "data": {
      "text/plain": [
       "               City Country  Max Temp      Lat       Lng Hotel Name\n",
       "9        Luganville      VU     76.59 -15.5333  167.1667           \n",
       "10          Rikitea      PF     79.74 -23.1203 -134.9692           \n",
       "11       Butaritari      KI     80.56   3.0707  172.7902           \n",
       "13  Arraial Do Cabo      BR     84.20 -22.9661  -42.0278           \n",
       "14            Sosua      DO     82.40  19.7667  -70.5167           "
      ],
      "text/html": "<div>\n<style scoped>\n    .dataframe tbody tr th:only-of-type {\n        vertical-align: middle;\n    }\n\n    .dataframe tbody tr th {\n        vertical-align: top;\n    }\n\n    .dataframe thead th {\n        text-align: right;\n    }\n</style>\n<table border=\"1\" class=\"dataframe\">\n  <thead>\n    <tr style=\"text-align: right;\">\n      <th></th>\n      <th>City</th>\n      <th>Country</th>\n      <th>Max Temp</th>\n      <th>Lat</th>\n      <th>Lng</th>\n      <th>Hotel Name</th>\n    </tr>\n  </thead>\n  <tbody>\n    <tr>\n      <th>9</th>\n      <td>Luganville</td>\n      <td>VU</td>\n      <td>76.59</td>\n      <td>-15.5333</td>\n      <td>167.1667</td>\n      <td></td>\n    </tr>\n    <tr>\n      <th>10</th>\n      <td>Rikitea</td>\n      <td>PF</td>\n      <td>79.74</td>\n      <td>-23.1203</td>\n      <td>-134.9692</td>\n      <td></td>\n    </tr>\n    <tr>\n      <th>11</th>\n      <td>Butaritari</td>\n      <td>KI</td>\n      <td>80.56</td>\n      <td>3.0707</td>\n      <td>172.7902</td>\n      <td></td>\n    </tr>\n    <tr>\n      <th>13</th>\n      <td>Arraial Do Cabo</td>\n      <td>BR</td>\n      <td>84.20</td>\n      <td>-22.9661</td>\n      <td>-42.0278</td>\n      <td></td>\n    </tr>\n    <tr>\n      <th>14</th>\n      <td>Sosua</td>\n      <td>DO</td>\n      <td>82.40</td>\n      <td>19.7667</td>\n      <td>-70.5167</td>\n      <td></td>\n    </tr>\n  </tbody>\n</table>\n</div>"
     },
     "metadata": {},
     "execution_count": 20
    }
   ],
   "source": [
    "hotel_df = preferred_cities_df[[\"City\",\"Country\",\"Max Temp\",\"Lat\",\"Lng\"]].copy()\n",
    "hotel_df[\"Hotel Name\"] = \"\"\n",
    "hotel_df.head()"
   ]
  },
  {
   "cell_type": "code",
   "execution_count": null,
   "metadata": {},
   "outputs": [],
   "source": [
    "# Set parameters for each hotel\n",
    "params = {\n",
    "    \"radius\": 5000,\n",
    "    \"type\":\"lodging\",\n",
    "    \"key\":g_key\n",
    "}"
   ]
  }
 ],
 "metadata": {
  "kernelspec": {
   "name": "python3",
   "display_name": "Python 3.7.9 64-bit ('PythonData': conda)",
   "metadata": {
    "interpreter": {
     "hash": "d0ce8657490faa1cd017f560ec43d4c2dd62527a50ff4cbff69cd1d61da732f4"
    }
   }
  },
  "language_info": {
   "codemirror_mode": {
    "name": "ipython",
    "version": 3
   },
   "file_extension": ".py",
   "mimetype": "text/x-python",
   "name": "python",
   "nbconvert_exporter": "python",
   "pygments_lexer": "ipython3",
   "version": "3.7.9-final"
  }
 },
 "nbformat": 4,
 "nbformat_minor": 2
}