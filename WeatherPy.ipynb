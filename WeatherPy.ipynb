{
 "metadata": {
  "language_info": {
   "codemirror_mode": {
    "name": "ipython",
    "version": 3
   },
   "file_extension": ".py",
   "mimetype": "text/x-python",
   "name": "python",
   "nbconvert_exporter": "python",
   "pygments_lexer": "ipython3",
   "version": "3.8.5-final"
  },
  "orig_nbformat": 2,
  "kernelspec": {
   "name": "python3",
   "display_name": "Python 3",
   "language": "python"
  }
 },
 "nbformat": 4,
 "nbformat_minor": 2,
 "cells": [
  {
   "cell_type": "code",
   "execution_count": 1,
   "metadata": {},
   "outputs": [],
   "source": [
    "# Import dependencies\n",
    "import pandas as pd\n",
    "import matplotlib.pyplot as plt\n",
    "import numpy as np\n",
    "import timeit"
   ]
  },
  {
   "cell_type": "code",
   "execution_count": 2,
   "metadata": {},
   "outputs": [
    {
     "output_type": "execute_result",
     "data": {
      "text/plain": [
       "<zip at 0x7fca1ba91080>"
      ]
     },
     "metadata": {},
     "execution_count": 2
    }
   ],
   "source": [
    "# Create a set of random latitude and longitude combinations\n",
    "lats = np.random.uniform(high=90.000,low=-90.000,size=1500)\n",
    "lngs = np.random.uniform(high=180.000,low=-180.000,size=1500)\n",
    "lat_lngs = zip(lats,lngs)\n",
    "lat_lngs"
   ]
  },
  {
   "cell_type": "code",
   "execution_count": 3,
   "metadata": {},
   "outputs": [],
   "source": [
    "# Create a practice set iof rtandom latitudes and longitude combinations\n",
    "x = [25.12903645, 25.92017388, 26.62509167, -59.98969384, 37.30571269]\n",
    "y = [-67.59741259, 11.09532135, 74.84233102, -76.89176677, -61.13376282]\n",
    "pract_coordinates = zip(x,y)"
   ]
  },
  {
   "cell_type": "code",
   "execution_count": 4,
   "metadata": {
    "tags": []
   },
   "outputs": [
    {
     "output_type": "stream",
     "name": "stdout",
     "text": [
      "25.12903645 -67.59741259\n25.92017388 11.09532135\n26.62509167 74.84233102\n-59.98969384 -76.89176677\n37.30571269 -61.13376282\n"
     ]
    }
   ],
   "source": [
    "# Use tuple() function to display the latitude and longititude combinations\n",
    "for coordinate in pract_coordinates:\n",
    "    print(coordinate[0],coordinate[1])"
   ]
  },
  {
   "cell_type": "code",
   "execution_count": 5,
   "metadata": {},
   "outputs": [],
   "source": [
    "# Add the latitudes and longitudes to a list\n",
    "coordinates = list(lat_lngs) "
   ]
  },
  {
   "cell_type": "code",
   "execution_count": 6,
   "metadata": {},
   "outputs": [],
   "source": [
    "# Use the citipy module to determine a city based on lat and long\n",
    "from citipy import citipy"
   ]
  },
  {
   "cell_type": "code",
   "execution_count": 7,
   "metadata": {},
   "outputs": [],
   "source": [
    "# Use the tuple() function to display the lat and long combination\n",
    "for coordinate in pract_coordinates:\n",
    "    print(citipy.nearest_city(coordinate[0],coordinate[1]).city_name, citipy.nearest_city(coordinate[0],coordinate[1]).country_code)"
   ]
  },
  {
   "cell_type": "code",
   "execution_count": 8,
   "metadata": {},
   "outputs": [
    {
     "output_type": "execute_result",
     "data": {
      "text/plain": [
       "623"
      ]
     },
     "metadata": {},
     "execution_count": 8
    }
   ],
   "source": [
    "# Create a list for holding the cities\n",
    "cities = []\n",
    "\n",
    "#Identify the nearest city for each latitude and longitude combination\n",
    "for coordinate in coordinates:\n",
    "    city = citipy.nearest_city(coordinate[0], coordinate[1]).city_name\n",
    "\n",
    "    # If the city is unique , then we will add it to the cities list\n",
    "    if city not in cities:\n",
    "        cities.append(city)\n",
    "\n",
    "# Print the city coun to confirm sufficient count\n",
    "len(cities)"
   ]
  },
  {
   "cell_type": "code",
   "execution_count": 9,
   "metadata": {},
   "outputs": [],
   "source": [
    "# Import the requests library\n",
    "import requests\n",
    "\n",
    "# Import the API key\n",
    "from config import weather_api_key"
   ]
  },
  {
   "cell_type": "code",
   "execution_count": 10,
   "metadata": {},
   "outputs": [
    {
     "output_type": "stream",
     "name": "stdout",
     "text": [
      "http://api.openweathermap.org/data/2.5/weather?units=Imperial&q=\n"
     ]
    }
   ],
   "source": [
    "# Starting URL for Weather Map API Call\n",
    "url = \"http://api.openweathermap.org/data/2.5/weather?units=Imperial&q=\"\n",
    "print(url)"
   ]
  },
  {
   "cell_type": "code",
   "execution_count": 11,
   "metadata": {},
   "outputs": [
    {
     "output_type": "stream",
     "name": "stdout",
     "text": [
      "http://api.openweathermap.org/data/2.5/weather?units=Imperial&q=Boston&appid=4ba337e4b741680682d653c2410f2b5c\n"
     ]
    }
   ],
   "source": [
    "# Create an endpoint URL for a city\n",
    "city_url = url + \"Boston\" + \"&appid=\" + weather_api_key\n",
    "print(city_url)"
   ]
  },
  {
   "cell_type": "code",
   "execution_count": 12,
   "metadata": {},
   "outputs": [
    {
     "output_type": "execute_result",
     "data": {
      "text/plain": [
       "<Response [200]>"
      ]
     },
     "metadata": {},
     "execution_count": 12
    }
   ],
   "source": [
    "# Make a GEet request for the city weather\n",
    "city_weather = requests.get(city_url)\n",
    "city_weather\n",
    "# weather_json = weather_response.json()"
   ]
  },
  {
   "cell_type": "code",
   "execution_count": 13,
   "metadata": {},
   "outputs": [
    {
     "output_type": "execute_result",
     "data": {
      "text/plain": [
       "200"
      ]
     },
     "metadata": {},
     "execution_count": 13
    }
   ],
   "source": [
    "city_weather.status_code"
   ]
  },
  {
   "cell_type": "code",
   "execution_count": 14,
   "metadata": {},
   "outputs": [
    {
     "output_type": "execute_result",
     "data": {
      "text/plain": [
       "'{\"coord\":{\"lon\":-71.0598,\"lat\":42.3584},\"weather\":[{\"id\":804,\"main\":\"Clouds\",\"description\":\"overcast clouds\",\"icon\":\"04d\"}],\"base\":\"stations\",\"main\":{\"temp\":35.37,\"feels_like\":26.94,\"temp_min\":34,\"temp_max\":37,\"pressure\":1016,\"humidity\":80},\"visibility\":10000,\"wind\":{\"speed\":8.05,\"deg\":340},\"clouds\":{\"all\":90},\"dt\":1611781264,\"sys\":{\"type\":1,\"id\":3486,\"country\":\"US\",\"sunrise\":1611748944,\"sunset\":1611784288},\"timezone\":-18000,\"id\":4930956,\"name\":\"Boston\",\"cod\":200}'"
      ]
     },
     "metadata": {},
     "execution_count": 14
    }
   ],
   "source": [
    "# Get the text of the Get requeest\n",
    "city_weather.text"
   ]
  },
  {
   "cell_type": "code",
   "execution_count": 15,
   "metadata": {},
   "outputs": [
    {
     "output_type": "execute_result",
     "data": {
      "text/plain": [
       "{'coord': {'lon': -71.0598, 'lat': 42.3584},\n",
       " 'weather': [{'id': 804,\n",
       "   'main': 'Clouds',\n",
       "   'description': 'overcast clouds',\n",
       "   'icon': '04d'}],\n",
       " 'base': 'stations',\n",
       " 'main': {'temp': 35.37,\n",
       "  'feels_like': 26.94,\n",
       "  'temp_min': 34,\n",
       "  'temp_max': 37,\n",
       "  'pressure': 1016,\n",
       "  'humidity': 80},\n",
       " 'visibility': 10000,\n",
       " 'wind': {'speed': 8.05, 'deg': 340},\n",
       " 'clouds': {'all': 90},\n",
       " 'dt': 1611781264,\n",
       " 'sys': {'type': 1,\n",
       "  'id': 3486,\n",
       "  'country': 'US',\n",
       "  'sunrise': 1611748944,\n",
       "  'sunset': 1611784288},\n",
       " 'timezone': -18000,\n",
       " 'id': 4930956,\n",
       " 'name': 'Boston',\n",
       " 'cod': 200}"
      ]
     },
     "metadata": {},
     "execution_count": 15
    }
   ],
   "source": [
    "# Get the JSON text of the Get request\n",
    "city_weather.json()"
   ]
  },
  {
   "cell_type": "code",
   "execution_count": 16,
   "metadata": {},
   "outputs": [
    {
     "output_type": "stream",
     "name": "stdout",
     "text": [
      "City weather found.\n"
     ]
    }
   ],
   "source": [
    "# Create an endpoint URL for a city.\n",
    "city_url = url + \"Boston\" + \"&appid=\" + weather_api_key\n",
    "city_weather = requests.get(city_url)\n",
    "if city_weather.status_code == 200:\n",
    "    print(f\"City weather found.\")\n",
    "else:\n",
    "    print(f\"City weather not found.\")"
   ]
  },
  {
   "cell_type": "code",
   "execution_count": 17,
   "metadata": {},
   "outputs": [
    {
     "output_type": "stream",
     "name": "stdout",
     "text": [
      "City Weather found.\nhttp://api.openweathermap.org/data/2.5/weather?units=Imperial&q=Boston&appid=4ba337e4b741680682d653c2410f2b5c\n"
     ]
    }
   ],
   "source": [
    "# Create an endpoint URL for a city.\n",
    "city_url = url + \"Boston\" + \"&appid=\" + weather_api_key\n",
    "city_weather = requests.get(city_url)\n",
    "if city_weather.json():\n",
    "    print(f\"City Weather found.\")\n",
    "    print(city_url)\n",
    "else:\n",
    "    print(f\"City weather not found.\")"
   ]
  },
  {
   "cell_type": "code",
   "execution_count": 18,
   "metadata": {},
   "outputs": [],
   "source": [
    "# Get the JSON data\n",
    "boston_data = city_weather.json()"
   ]
  },
  {
   "cell_type": "code",
   "execution_count": 19,
   "metadata": {},
   "outputs": [
    {
     "output_type": "execute_result",
     "data": {
      "text/plain": [
       "'US'"
      ]
     },
     "metadata": {},
     "execution_count": 19
    }
   ],
   "source": [
    "boston_data['sys']['country']"
   ]
  },
  {
   "cell_type": "code",
   "execution_count": 20,
   "metadata": {},
   "outputs": [
    {
     "output_type": "execute_result",
     "data": {
      "text/plain": [
       "1611781448"
      ]
     },
     "metadata": {},
     "execution_count": 20
    }
   ],
   "source": [
    "boston_data['dt']"
   ]
  },
  {
   "cell_type": "code",
   "execution_count": 21,
   "metadata": {},
   "outputs": [
    {
     "output_type": "execute_result",
     "data": {
      "text/plain": [
       "'2021-01-27 21:04:08'"
      ]
     },
     "metadata": {},
     "execution_count": 21
    }
   ],
   "source": [
    "# Import the datetime module from the datetime library.\n",
    "from datetime import datetime\n",
    "# Get the date from the JSON file.\n",
    "date = boston_data[\"dt\"]\n",
    "# Convert the UTC date to a date format with year, month, day, hours, minutes, and seconds.\n",
    "datetime.utcfromtimestamp(date).strftime('%Y-%m-%d %H:%M:%S')"
   ]
  },
  {
   "source": [
    "# 6.2.6"
   ],
   "cell_type": "markdown",
   "metadata": {}
  },
  {
   "cell_type": "code",
   "execution_count": 22,
   "metadata": {},
   "outputs": [],
   "source": [
    "# Import the datetime module from the datetime library.\n",
    "from datetime import datetime"
   ]
  },
  {
   "cell_type": "code",
   "execution_count": 23,
   "metadata": {},
   "outputs": [
    {
     "output_type": "stream",
     "name": "stdout",
     "text": [
      "Beginning Data Retrieval     \n-----------------------------\n"
     ]
    }
   ],
   "source": [
    "# Create an empty list to hold the weather data\n",
    "city_data = []\n",
    "# Print the beginning of the logging\n",
    "print(\"Beginning Data Retrieval     \")\n",
    "print(\"-----------------------------\")\n",
    "\n",
    "# Create counters\n",
    "record_count = 1\n",
    "set_count = 1"
   ]
  },
  {
   "cell_type": "code",
   "execution_count": 25,
   "metadata": {
    "tags": [
     "outputPrepend"
    ]
   },
   "outputs": [
    {
     "output_type": "stream",
     "name": "stdout",
     "text": [
      ". Skipping...\n",
      "Processing Record 24 of Set 16 | goderich\n",
      "Processing Record 25 of Set 16 | hunza\n",
      "City not found. Skipping...\n",
      "Processing Record 26 of Set 16 | bodden town\n",
      "Processing Record 27 of Set 16 | buraydah\n",
      "Processing Record 28 of Set 16 | adrar\n",
      "Processing Record 29 of Set 16 | ploemeur\n",
      "Processing Record 30 of Set 16 | katsuura\n",
      "Processing Record 31 of Set 16 | hualmay\n",
      "Processing Record 32 of Set 16 | yar-sale\n",
      "Processing Record 33 of Set 16 | maltahohe\n",
      "Processing Record 34 of Set 16 | rio gallegos\n",
      "Processing Record 35 of Set 16 | maumere\n",
      "Processing Record 36 of Set 16 | cidreira\n",
      "Processing Record 37 of Set 16 | hurghada\n",
      "Processing Record 38 of Set 16 | ngunguru\n",
      "Processing Record 39 of Set 16 | morant bay\n",
      "Processing Record 40 of Set 16 | nikolskoye\n",
      "Processing Record 41 of Set 16 | krasnoselkup\n",
      "Processing Record 42 of Set 16 | kisaran\n",
      "Processing Record 43 of Set 16 | nouadhibou\n",
      "Processing Record 44 of Set 16 | biskamzha\n",
      "Processing Record 45 of Set 16 | kiruna\n",
      "Processing Record 46 of Set 16 | maceio\n",
      "Processing Record 47 of Set 16 | pio xii\n",
      "Processing Record 48 of Set 16 | mahibadhoo\n",
      "Processing Record 49 of Set 16 | puerto colombia\n",
      "Processing Record 50 of Set 16 | asyut\n",
      "Processing Record 1 of Set 17 | narsaq\n",
      "Processing Record 2 of Set 17 | mestia\n",
      "Processing Record 3 of Set 17 | halalo\n",
      "City not found. Skipping...\n",
      "Processing Record 4 of Set 17 | three hills\n",
      "Processing Record 5 of Set 17 | petropavlovsk-kamchatskiy\n",
      "Processing Record 6 of Set 17 | vao\n",
      "Processing Record 7 of Set 17 | lorengau\n",
      "Processing Record 8 of Set 17 | quepos\n",
      "Processing Record 9 of Set 17 | bandarbeyla\n",
      "Processing Record 10 of Set 17 | poum\n",
      "Processing Record 11 of Set 17 | airai\n",
      "Processing Record 12 of Set 17 | praxedis guerrero\n",
      "Processing Record 13 of Set 17 | arlit\n",
      "Processing Record 14 of Set 17 | prainha\n",
      "Processing Record 15 of Set 17 | mayo\n",
      "Processing Record 16 of Set 17 | avarua\n",
      "Processing Record 17 of Set 17 | coquimbo\n",
      "Processing Record 18 of Set 17 | anar darreh\n",
      "City not found. Skipping...\n",
      "Processing Record 19 of Set 17 | san buenaventura\n",
      "Processing Record 20 of Set 17 | kiunga\n",
      "Processing Record 21 of Set 17 | mayenne\n",
      "Processing Record 22 of Set 17 | ribeira grande\n",
      "Processing Record 23 of Set 17 | poniatowa\n",
      "Processing Record 24 of Set 17 | matara\n",
      "Processing Record 25 of Set 17 | hamilton\n",
      "Processing Record 26 of Set 17 | kudahuvadhoo\n",
      "Processing Record 27 of Set 17 | zhongshu\n",
      "Processing Record 28 of Set 17 | pacific grove\n",
      "Processing Record 29 of Set 17 | chagda\n",
      "City not found. Skipping...\n",
      "Processing Record 30 of Set 17 | severo-kurilsk\n",
      "Processing Record 31 of Set 17 | abucay\n",
      "Processing Record 32 of Set 17 | ishigaki\n",
      "Processing Record 33 of Set 17 | athens\n",
      "Processing Record 34 of Set 17 | port macquarie\n",
      "Processing Record 35 of Set 17 | murray bridge\n",
      "Processing Record 36 of Set 17 | benin\n",
      "Processing Record 37 of Set 17 | vershino-darasunskiy\n",
      "Processing Record 38 of Set 17 | xai-xai\n",
      "Processing Record 39 of Set 17 | cumpas\n",
      "Processing Record 40 of Set 17 | tautira\n",
      "Processing Record 41 of Set 17 | hihifo\n",
      "City not found. Skipping...\n",
      "Processing Record 42 of Set 17 | chokwe\n",
      "Processing Record 43 of Set 17 | kloulklubed\n",
      "Processing Record 44 of Set 17 | lata\n",
      "Processing Record 45 of Set 17 | tuktoyaktuk\n",
      "Processing Record 46 of Set 17 | promyshlennaya\n",
      "Processing Record 47 of Set 17 | puerto escondido\n",
      "Processing Record 48 of Set 17 | hellvik\n",
      "Processing Record 49 of Set 17 | provideniya\n",
      "Processing Record 50 of Set 17 | varkaus\n",
      "Processing Record 1 of Set 18 | coihaique\n",
      "Processing Record 2 of Set 18 | aguimes\n",
      "Processing Record 3 of Set 18 | faanui\n",
      "Processing Record 4 of Set 18 | rawson\n",
      "Processing Record 5 of Set 18 | zlitan\n",
      "Processing Record 6 of Set 18 | garissa\n",
      "Processing Record 7 of Set 18 | jalu\n",
      "Processing Record 8 of Set 18 | alugan\n",
      "Processing Record 9 of Set 18 | birjand\n",
      "Processing Record 10 of Set 18 | mogadishu\n",
      "Processing Record 11 of Set 18 | nokaneng\n",
      "Processing Record 12 of Set 18 | cabo san lucas\n",
      "Processing Record 13 of Set 18 | galiwinku\n",
      "City not found. Skipping...\n",
      "Processing Record 14 of Set 18 | mys shmidta\n",
      "City not found. Skipping...\n",
      "Processing Record 15 of Set 18 | naze\n",
      "Processing Record 16 of Set 18 | harper\n",
      "Processing Record 17 of Set 18 | temaraia\n",
      "City not found. Skipping...\n",
      "Processing Record 18 of Set 18 | kushmurun\n",
      "Processing Record 19 of Set 18 | korla\n",
      "Processing Record 20 of Set 18 | paraiso\n",
      "Processing Record 21 of Set 18 | borujan\n",
      "City not found. Skipping...\n",
      "Processing Record 22 of Set 18 | sabzevar\n",
      "Processing Record 23 of Set 18 | balkanabat\n",
      "Processing Record 24 of Set 18 | pacifica\n",
      "Processing Record 25 of Set 18 | ximei\n",
      "Processing Record 26 of Set 18 | henties bay\n",
      "Processing Record 27 of Set 18 | nea peramos\n",
      "Processing Record 28 of Set 18 | wuwei\n",
      "Processing Record 29 of Set 18 | camacha\n",
      "Processing Record 30 of Set 18 | alice\n",
      "Processing Record 31 of Set 18 | mount pleasant\n",
      "Processing Record 32 of Set 18 | hervey bay\n",
      "Processing Record 33 of Set 18 | chuy\n",
      "Processing Record 34 of Set 18 | bako\n",
      "Processing Record 35 of Set 18 | comodoro rivadavia\n",
      "Processing Record 36 of Set 18 | tibati\n",
      "Processing Record 37 of Set 18 | abu samrah\n",
      "Processing Record 38 of Set 18 | kitami\n",
      "Processing Record 39 of Set 18 | barcelona\n",
      "Processing Record 40 of Set 18 | behbahan\n",
      "Processing Record 41 of Set 18 | ambilobe\n",
      "Processing Record 42 of Set 18 | nagato\n",
      "Processing Record 43 of Set 18 | hithadhoo\n",
      "Processing Record 44 of Set 18 | ilorin\n",
      "Processing Record 45 of Set 18 | aras\n",
      "Processing Record 46 of Set 18 | toliary\n",
      "City not found. Skipping...\n",
      "Processing Record 47 of Set 18 | fairbanks\n",
      "Processing Record 48 of Set 18 | saldanha\n",
      "Processing Record 49 of Set 18 | talara\n",
      "Processing Record 50 of Set 18 | fort nelson\n",
      "Processing Record 1 of Set 19 | ahipara\n",
      "Processing Record 2 of Set 19 | pangkalanbuun\n",
      "Processing Record 3 of Set 19 | balikpapan\n",
      "Processing Record 4 of Set 19 | shirokiy\n",
      "Processing Record 5 of Set 19 | srednekolymsk\n",
      "Processing Record 6 of Set 19 | neuquen\n",
      "Processing Record 7 of Set 19 | clovis\n",
      "Processing Record 8 of Set 19 | iqaluit\n",
      "Processing Record 9 of Set 19 | gdansk\n",
      "Processing Record 10 of Set 19 | lincoln\n",
      "Processing Record 11 of Set 19 | kapit\n",
      "Processing Record 12 of Set 19 | san andres\n",
      "Processing Record 13 of Set 19 | vaitupu\n",
      "City not found. Skipping...\n",
      "Processing Record 14 of Set 19 | orlik\n",
      "Processing Record 15 of Set 19 | cozumel\n",
      "Processing Record 16 of Set 19 | marcona\n",
      "City not found. Skipping...\n",
      "Processing Record 17 of Set 19 | saint-augustin\n",
      "Processing Record 18 of Set 19 | manokwari\n",
      "Processing Record 19 of Set 19 | nushki\n",
      "Processing Record 20 of Set 19 | grindavik\n",
      "Processing Record 21 of Set 19 | palmas bellas\n",
      "Processing Record 22 of Set 19 | zhaotong\n",
      "Processing Record 23 of Set 19 | sur\n",
      "Processing Record 24 of Set 19 | keetmanshoop\n",
      "Processing Record 25 of Set 19 | aizkraukle\n",
      "Processing Record 26 of Set 19 | touros\n",
      "Processing Record 27 of Set 19 | toamasina\n",
      "Processing Record 28 of Set 19 | quatre cocos\n",
      "Processing Record 29 of Set 19 | la orilla\n",
      "Processing Record 30 of Set 19 | delray beach\n",
      "Processing Record 31 of Set 19 | haines junction\n",
      "Processing Record 32 of Set 19 | mareeba\n",
      "Processing Record 33 of Set 19 | luang prabang\n",
      "Processing Record 34 of Set 19 | berlin\n",
      "Processing Record 35 of Set 19 | norman wells\n",
      "Processing Record 36 of Set 19 | talnakh\n",
      "Processing Record 37 of Set 19 | babanusah\n",
      "City not found. Skipping...\n",
      "Processing Record 38 of Set 19 | ixtapa\n",
      "Processing Record 39 of Set 19 | saint anthony\n",
      "Processing Record 40 of Set 19 | wajima\n",
      "Processing Record 41 of Set 19 | stony plain\n",
      "Processing Record 42 of Set 19 | ekhabi\n",
      "Processing Record 43 of Set 19 | madimba\n",
      "Processing Record 44 of Set 19 | ancud\n",
      "Processing Record 45 of Set 19 | upernavik\n",
      "Processing Record 46 of Set 19 | fershampenuaz\n",
      "Processing Record 47 of Set 19 | usinsk\n",
      "Processing Record 48 of Set 19 | felipe carrillo puerto\n",
      "Processing Record 49 of Set 19 | ndele\n",
      "Processing Record 50 of Set 19 | aklavik\n",
      "Processing Record 1 of Set 20 | komsomolskiy\n",
      "Processing Record 2 of Set 20 | bridgetown\n",
      "Processing Record 3 of Set 20 | ust-nera\n",
      "Processing Record 4 of Set 20 | abiy adi\n",
      "City not found. Skipping...\n",
      "Processing Record 5 of Set 20 | itarema\n",
      "Processing Record 6 of Set 20 | puerto el triunfo\n",
      "Processing Record 7 of Set 20 | gornopravdinsk\n",
      "Processing Record 8 of Set 20 | awbari\n",
      "Processing Record 9 of Set 20 | bardiyah\n",
      "Processing Record 10 of Set 20 | yumbing\n",
      "Processing Record 11 of Set 20 | formosa\n",
      "Processing Record 12 of Set 20 | karratha\n",
      "Processing Record 13 of Set 20 | ierapetra\n",
      "Processing Record 14 of Set 20 | willmar\n",
      "Processing Record 15 of Set 20 | beira\n",
      "Processing Record 16 of Set 20 | stromness\n",
      "Processing Record 17 of Set 20 | sulangan\n",
      "Processing Record 18 of Set 20 | aksu\n",
      "Processing Record 19 of Set 20 | port-cartier\n",
      "Processing Record 20 of Set 20 | tuatapere\n",
      "Processing Record 21 of Set 20 | mon\n",
      "Processing Record 22 of Set 20 | desaguadero\n",
      "Processing Record 23 of Set 20 | ternate\n",
      "Processing Record 24 of Set 20 | pameungpeuk\n",
      "Processing Record 25 of Set 20 | san patricio\n",
      "Processing Record 26 of Set 20 | ismailia\n",
      "Processing Record 27 of Set 20 | san quintin\n",
      "Processing Record 28 of Set 20 | hays\n",
      "Processing Record 29 of Set 20 | pinawa\n",
      "Processing Record 30 of Set 20 | hauterive\n",
      "Processing Record 31 of Set 20 | dubrovnik\n",
      "Processing Record 32 of Set 20 | gavle\n",
      "Processing Record 33 of Set 20 | barra dos coqueiros\n",
      "Processing Record 34 of Set 20 | dzhebariki-khaya\n",
      "Processing Record 35 of Set 20 | guerrero negro\n",
      "Processing Record 36 of Set 20 | moindou\n",
      "Processing Record 37 of Set 20 | sirajganj\n",
      "Processing Record 38 of Set 20 | calama\n",
      "Processing Record 39 of Set 20 | jamkhed\n",
      "Processing Record 40 of Set 20 | paciran\n",
      "Processing Record 41 of Set 20 | kushiro\n",
      "Processing Record 42 of Set 20 | sao pedro do sul\n",
      "Processing Record 43 of Set 20 | nebyliv\n",
      "Processing Record 44 of Set 20 | koshurnikovo\n",
      "Processing Record 45 of Set 20 | bathsheba\n",
      "Processing Record 46 of Set 20 | te anau\n",
      "Processing Record 47 of Set 20 | mount gambier\n",
      "Processing Record 48 of Set 20 | salalah\n",
      "Processing Record 49 of Set 20 | sabang\n",
      "Processing Record 50 of Set 20 | campeche\n",
      "Processing Record 1 of Set 21 | mangrol\n",
      "Processing Record 2 of Set 21 | moron\n",
      "Processing Record 3 of Set 21 | cootamundra\n",
      "Processing Record 4 of Set 21 | cotonou\n",
      "Processing Record 5 of Set 21 | coachella\n",
      "Processing Record 6 of Set 21 | lashio\n",
      "Processing Record 7 of Set 21 | tura\n",
      "Processing Record 8 of Set 21 | les cayes\n",
      "Processing Record 9 of Set 21 | karaul\n",
      "City not found. Skipping...\n",
      "Processing Record 10 of Set 21 | hobyo\n",
      "Processing Record 11 of Set 21 | odoyev\n",
      "Processing Record 12 of Set 21 | le mars\n",
      "Processing Record 13 of Set 21 | korem\n",
      "Processing Record 14 of Set 21 | vardo\n",
      "Processing Record 15 of Set 21 | vestmannaeyjar\n",
      "Processing Record 16 of Set 21 | crab hill\n",
      "City not found. Skipping...\n",
      "Processing Record 17 of Set 21 | sijunjung\n",
      "Processing Record 18 of Set 21 | the valley\n",
      "Processing Record 19 of Set 21 | karkaralinsk\n",
      "City not found. Skipping...\n",
      "Processing Record 20 of Set 21 | binga\n",
      "Processing Record 21 of Set 21 | columbia\n",
      "Processing Record 22 of Set 21 | sorvag\n",
      "City not found. Skipping...\n",
      "Processing Record 23 of Set 21 | waycross\n",
      "Processing Record 24 of Set 21 | presidencia roque saenz pena\n",
      "Processing Record 25 of Set 21 | austin\n",
      "Processing Record 26 of Set 21 | monrovia\n",
      "Processing Record 27 of Set 21 | point fortin\n",
      "Processing Record 28 of Set 21 | tarbes\n",
      "Processing Record 29 of Set 21 | solnechnyy\n",
      "Processing Record 30 of Set 21 | davila\n",
      "Processing Record 31 of Set 21 | cockburn town\n",
      "Processing Record 32 of Set 21 | nova londrina\n",
      "Processing Record 33 of Set 21 | arman\n",
      "Processing Record 34 of Set 21 | namatanai\n",
      "Processing Record 35 of Set 21 | tombouctou\n",
      "Processing Record 36 of Set 21 | kontagora\n",
      "Processing Record 37 of Set 21 | bar harbor\n",
      "Processing Record 38 of Set 21 | rorvik\n",
      "Processing Record 39 of Set 21 | tashtyp\n",
      "Processing Record 40 of Set 21 | palmer\n",
      "Processing Record 41 of Set 21 | nyrob\n",
      "Processing Record 42 of Set 21 | itaituba\n",
      "Processing Record 43 of Set 21 | jackson\n",
      "Processing Record 44 of Set 21 | samusu\n",
      "City not found. Skipping...\n",
      "Processing Record 45 of Set 21 | upanema\n",
      "Processing Record 46 of Set 21 | kavieng\n",
      "Processing Record 47 of Set 21 | kenora\n",
      "Processing Record 48 of Set 21 | fergus\n",
      "Processing Record 49 of Set 21 | clevelandia\n",
      "Processing Record 50 of Set 21 | mogok\n",
      "Processing Record 1 of Set 22 | komatipoort\n",
      "Processing Record 2 of Set 22 | meulaboh\n",
      "Processing Record 3 of Set 22 | gangotri\n",
      "City not found. Skipping...\n",
      "Processing Record 4 of Set 22 | la ronge\n",
      "Processing Record 5 of Set 22 | zhengjiatun\n",
      "Processing Record 6 of Set 22 | kahului\n",
      "Processing Record 7 of Set 22 | nueva granada\n",
      "Processing Record 8 of Set 22 | atar\n",
      "Processing Record 9 of Set 22 | daru\n",
      "Processing Record 10 of Set 22 | san cristobal\n",
      "Processing Record 11 of Set 22 | winslow\n",
      "Processing Record 12 of Set 22 | pangody\n",
      "Processing Record 13 of Set 22 | amderma\n",
      "City not found. Skipping...\n",
      "Processing Record 14 of Set 22 | cabedelo\n",
      "Processing Record 15 of Set 22 | saint-joseph\n",
      "Processing Record 16 of Set 22 | gadsden\n",
      "Processing Record 17 of Set 22 | manosque\n",
      "Processing Record 18 of Set 22 | tuggurt\n",
      "City not found. Skipping...\n",
      "Processing Record 19 of Set 22 | ampanihy\n",
      "Processing Record 20 of Set 22 | kharp\n",
      "Processing Record 21 of Set 22 | pokrovka\n",
      "Processing Record 22 of Set 22 | bandikui\n",
      "Processing Record 23 of Set 22 | makakilo city\n",
      "Processing Record 24 of Set 22 | klyuchi\n",
      "Processing Record 25 of Set 22 | wilmington\n",
      "Processing Record 26 of Set 22 | caloundra\n",
      "Processing Record 27 of Set 22 | paamiut\n",
      "Processing Record 28 of Set 22 | pervomayskoye\n",
      "Processing Record 29 of Set 22 | staroaleyskoye\n",
      "Processing Record 30 of Set 22 | inderborskiy\n",
      "City not found. Skipping...\n",
      "Processing Record 31 of Set 22 | port hardy\n",
      "Processing Record 32 of Set 22 | tamala\n",
      "Processing Record 33 of Set 22 | miraflores\n",
      "Processing Record 34 of Set 22 | asuncion\n",
      "Processing Record 35 of Set 22 | nantucket\n",
      "Processing Record 36 of Set 22 | mantua\n",
      "Processing Record 37 of Set 22 | general roca\n",
      "Processing Record 38 of Set 22 | carutapera\n",
      "Processing Record 39 of Set 22 | praia da vitoria\n",
      "Processing Record 40 of Set 22 | pinotepa nacional\n",
      "Processing Record 41 of Set 22 | kasongo-lunda\n",
      "Processing Record 42 of Set 22 | savinka\n",
      "Processing Record 43 of Set 22 | havoysund\n",
      "Processing Record 44 of Set 22 | havre-saint-pierre\n",
      "Processing Record 45 of Set 22 | saint-pierre\n",
      "Processing Record 46 of Set 22 | geraldton\n",
      "Processing Record 47 of Set 22 | zyryanka\n",
      "Processing Record 48 of Set 22 | teguldet\n",
      "Processing Record 49 of Set 22 | sept-iles\n",
      "Processing Record 50 of Set 22 | salaga\n",
      "Processing Record 1 of Set 23 | artyk\n",
      "City not found. Skipping...\n",
      "Processing Record 2 of Set 23 | umzimvubu\n",
      "City not found. Skipping...\n",
      "Processing Record 3 of Set 23 | san luis\n",
      "Processing Record 4 of Set 23 | chifeng\n",
      "Processing Record 5 of Set 23 | pingliang\n",
      "Processing Record 6 of Set 23 | beeville\n",
      "Processing Record 7 of Set 23 | constitucion\n",
      "Processing Record 8 of Set 23 | aswan\n",
      "Processing Record 9 of Set 23 | awjilah\n",
      "Processing Record 10 of Set 23 | melfi\n",
      "Processing Record 11 of Set 23 | darab\n",
      "Processing Record 12 of Set 23 | oistins\n",
      "Processing Record 13 of Set 23 | lewiston\n",
      "Processing Record 14 of Set 23 | black forest\n",
      "Processing Record 15 of Set 23 | pallasovka\n",
      "Processing Record 16 of Set 23 | samalaeulu\n",
      "City not found. Skipping...\n",
      "Processing Record 17 of Set 23 | hokitika\n",
      "Processing Record 18 of Set 23 | pilar\n",
      "Processing Record 19 of Set 23 | sentyabrskiy\n",
      "City not found. Skipping...\n",
      "Processing Record 20 of Set 23 | acapulco\n",
      "Processing Record 21 of Set 23 | sayyan\n",
      "Processing Record 22 of Set 23 | takoradi\n",
      "Processing Record 23 of Set 23 | damghan\n",
      "Processing Record 24 of Set 23 | colares\n",
      "Processing Record 25 of Set 23 | waipawa\n",
      "Processing Record 26 of Set 23 | mackay\n",
      "Processing Record 27 of Set 23 | pinsk\n",
      "Processing Record 28 of Set 23 | terra santa\n",
      "Processing Record 29 of Set 23 | yangjiang\n",
      "Processing Record 30 of Set 23 | viedma\n",
      "Processing Record 31 of Set 23 | ondorhaan\n",
      "City not found. Skipping...\n",
      "Processing Record 32 of Set 23 | tarata\n",
      "Processing Record 33 of Set 23 | taoudenni\n",
      "Processing Record 34 of Set 23 | celestun\n",
      "Processing Record 35 of Set 23 | leander\n",
      "Processing Record 36 of Set 23 | tezu\n",
      "Processing Record 37 of Set 23 | arica\n",
      "Processing Record 38 of Set 23 | itatskiy\n",
      "Processing Record 39 of Set 23 | bonavista\n",
      "Processing Record 40 of Set 23 | kutum\n",
      "Processing Record 41 of Set 23 | vanimo\n",
      "Processing Record 42 of Set 23 | severodvinsk\n",
      "Processing Record 43 of Set 23 | fayaoue\n",
      "Processing Record 44 of Set 23 | kiama\n",
      "Processing Record 45 of Set 23 | mahalapye\n",
      "Processing Record 46 of Set 23 | micheweni\n",
      "Processing Record 47 of Set 23 | kailua\n",
      "Processing Record 48 of Set 23 | mehamn\n",
      "Processing Record 49 of Set 23 | sirohi\n",
      "Processing Record 50 of Set 23 | vostok\n",
      "Processing Record 1 of Set 24 | bubaque\n",
      "Processing Record 2 of Set 24 | bunia\n",
      "Processing Record 3 of Set 24 | ejido\n",
      "Processing Record 4 of Set 24 | jay\n",
      "Processing Record 5 of Set 24 | warqla\n",
      "City not found. Skipping...\n",
      "Processing Record 6 of Set 24 | finnsnes\n",
      "Processing Record 7 of Set 24 | byron bay\n",
      "Processing Record 8 of Set 24 | larsnes\n",
      "Processing Record 9 of Set 24 | jacareacanga\n",
      "Processing Record 10 of Set 24 | richards bay\n",
      "Processing Record 11 of Set 24 | changji\n",
      "Processing Record 12 of Set 24 | anlu\n",
      "Processing Record 13 of Set 24 | mwense\n",
      "Processing Record 14 of Set 24 | kingaroy\n",
      "Processing Record 15 of Set 24 | simbahan\n",
      "Processing Record 16 of Set 24 | honningsvag\n",
      "Processing Record 17 of Set 24 | maghama\n",
      "City not found. Skipping...\n",
      "Processing Record 18 of Set 24 | yerbogachen\n",
      "Processing Record 19 of Set 24 | sabha\n",
      "Processing Record 20 of Set 24 | ballitoville\n",
      "Processing Record 21 of Set 24 | skibbereen\n",
      "Processing Record 22 of Set 24 | provost\n",
      "Processing Record 23 of Set 24 | harnai\n",
      "Processing Record 24 of Set 24 | zverinogolovskoye\n",
      "Processing Record 25 of Set 24 | hirara\n",
      "Processing Record 26 of Set 24 | noumea\n",
      "Processing Record 27 of Set 24 | huarmey\n",
      "Processing Record 28 of Set 24 | balykshi\n",
      "Processing Record 29 of Set 24 | baykit\n",
      "Processing Record 30 of Set 24 | cuajinicuilapa\n",
      "Processing Record 31 of Set 24 | fortuna\n",
      "Processing Record 32 of Set 24 | yeppoon\n",
      "Processing Record 33 of Set 24 | matay\n",
      "Processing Record 34 of Set 24 | anadyr\n",
      "Processing Record 35 of Set 24 | wuchi\n",
      "Processing Record 36 of Set 24 | uvira\n",
      "Processing Record 37 of Set 24 | edson\n",
      "Processing Record 38 of Set 24 | cairns\n",
      "Processing Record 39 of Set 24 | port blair\n",
      "Processing Record 40 of Set 24 | lolua\n",
      "City not found. Skipping...\n",
      "Processing Record 41 of Set 24 | havelock\n",
      "Processing Record 42 of Set 24 | viransehir\n",
      "Processing Record 43 of Set 24 | san jose\n",
      "Processing Record 44 of Set 24 | manbij\n",
      "Processing Record 45 of Set 24 | shingu\n",
      "Processing Record 46 of Set 24 | la huacana\n",
      "Processing Record 47 of Set 24 | dakar\n",
      "Processing Record 48 of Set 24 | arraias\n",
      "Processing Record 49 of Set 24 | belaya gora\n",
      "Processing Record 50 of Set 24 | grand baie\n",
      "Processing Record 1 of Set 25 | lamar\n",
      "Processing Record 2 of Set 25 | boa esperanca\n",
      "Processing Record 3 of Set 25 | udachnyy\n",
      "Processing Record 4 of Set 25 | dingle\n",
      "Processing Record 5 of Set 25 | santa eulalia del rio\n",
      "City not found. Skipping...\n",
      "Processing Record 6 of Set 25 | puerto quijarro\n",
      "Processing Record 7 of Set 25 | xiuyan\n",
      "Processing Record 8 of Set 25 | prince rupert\n",
      "Processing Record 9 of Set 25 | guspini\n",
      "Processing Record 10 of Set 25 | gazanjyk\n",
      "Processing Record 11 of Set 25 | bitlis\n",
      "Processing Record 12 of Set 25 | oranjestad\n",
      "Processing Record 13 of Set 25 | chicama\n",
      "Processing Record 14 of Set 25 | locri\n",
      "Processing Record 15 of Set 25 | churapcha\n",
      "Processing Record 16 of Set 25 | bombay\n",
      "Processing Record 17 of Set 25 | rundu\n",
      "Processing Record 18 of Set 25 | rocha\n",
      "Processing Record 19 of Set 25 | yulara\n",
      "Processing Record 20 of Set 25 | tiarei\n",
      "Processing Record 21 of Set 25 | bhawanipatna\n",
      "Processing Record 22 of Set 25 | fort morgan\n",
      "Processing Record 23 of Set 25 | opuwo\n",
      "-----------------------------\n",
      "Data Retrieval Complete      \n",
      "-----------------------------\n"
     ]
    }
   ],
   "source": [
    "# Loop through all the cities in our list\n",
    "for i,city in enumerate(cities):\n",
    "\n",
    "    # Group cities in sets of 50 for logging purposes\n",
    "    if (i % 50 == 0 and i >= 50):\n",
    "        set_count += 1\n",
    "        record_count = 1\n",
    "    # Create endpoint URL with each city\n",
    "    city_url = url + city.replace(' ','+') + \"&appid=\" + weather_api_key\n",
    "\n",
    "    # Log the URL, record, and set numbers and the city.\n",
    "    print(f\"Processing Record {record_count} of Set {set_count} | {city}\")\n",
    "    # Add 1 to the record count.\n",
    "    record_count += 1\n",
    "\n",
    "    # run an API request for each of the cities\n",
    "    try:\n",
    "        # Parse the JSON and retrieve the data\n",
    "        city_weather = requests.get(city_url).json()\n",
    "        # parse out the neeeded data\n",
    "        city_lat = city_weather[\"coord\"][\"lat\"]\n",
    "        city_lng = city_weather[\"coord\"][\"lon\"]\n",
    "        city_max_temp = city_weather['main']['temp_max']\n",
    "        city_humidity = city_weather['main']['humidity']\n",
    "        city_clouds = city_weather['clouds']['all']\n",
    "        city_wind = city_weather['wind']['speed']\n",
    "        city_country = city_weather['sys']['country']\n",
    "        # Convert the date to ISO standard\n",
    "        city_date = datetime.utcfromtimestamp(city_weather['dt']).strftime('%Y-%m-%d %H:%M:%S')\n",
    "\n",
    "        # append the city information into cuty_data list\n",
    "        city_data.append({\"City\": city.title(),\n",
    "                          \"Lat\": city_lat,\n",
    "                          \"Lng\": city_lng,\n",
    "                          \"Max Temp\": city_max_temp,\n",
    "                          \"Humidity\": city_humidity,\n",
    "                          \"Cloudiness\": city_clouds,\n",
    "                          \"Wind Speed\": city_wind,\n",
    "                          \"Country\": city_country,\n",
    "                          \"Date\": city_date})\n",
    "\n",
    "# If an error is experienced, skip the city.\n",
    "    except:\n",
    "        print(\"City not found. Skipping...\")\n",
    "        pass\n",
    "\n",
    "# Indicate that Data Loading is complete.\n",
    "print(\"-----------------------------\")\n",
    "print(\"Data Retrieval Complete      \")\n",
    "print(\"-----------------------------\")"
   ]
  },
  {
   "cell_type": "code",
   "execution_count": 26,
   "metadata": {},
   "outputs": [
    {
     "output_type": "execute_result",
     "data": {
      "text/plain": [
       "          City      Lat       Lng  Max Temp  Humidity  Cloudiness  Wind Speed  \\\n",
       "0      Husavik  66.0449  -17.3389     19.40        86          75        8.25   \n",
       "1       Lompoc  34.6391 -120.4579     51.80        93          90       13.80   \n",
       "2       Weiser  44.2510 -116.9693     46.40        53          75       24.16   \n",
       "3      Ushuaia -54.8000  -68.3000     41.00        87          75       24.16   \n",
       "4         Hofn  64.2539  -15.2082     25.77        89           1       14.12   \n",
       "5  Port Alfred -33.5906   26.8910     64.99        94          28        1.99   \n",
       "6      Qaanaaq  77.4840  -69.3632    -15.74        65           0        8.37   \n",
       "7    Ust-Kuyga  70.0167  135.6000    -39.48        79          96        1.63   \n",
       "8   Kaitangata -46.2817  169.8464     51.01        82          61        5.99   \n",
       "9   Luganville -15.5333  167.1667     76.59        89         100        7.92   \n",
       "\n",
       "  Country                 Date  \n",
       "0      IS  2021-01-27 21:07:40  \n",
       "1      US  2021-01-27 20:54:10  \n",
       "2      US  2021-01-27 21:08:32  \n",
       "3      AR  2021-01-27 21:08:33  \n",
       "4      IS  2021-01-27 21:08:05  \n",
       "5      ZA  2021-01-27 21:08:33  \n",
       "6      GL  2021-01-27 21:08:33  \n",
       "7      RU  2021-01-27 21:08:33  \n",
       "8      NZ  2021-01-27 21:03:49  \n",
       "9      VU  2021-01-27 21:08:34  "
      ],
      "text/html": "<div>\n<style scoped>\n    .dataframe tbody tr th:only-of-type {\n        vertical-align: middle;\n    }\n\n    .dataframe tbody tr th {\n        vertical-align: top;\n    }\n\n    .dataframe thead th {\n        text-align: right;\n    }\n</style>\n<table border=\"1\" class=\"dataframe\">\n  <thead>\n    <tr style=\"text-align: right;\">\n      <th></th>\n      <th>City</th>\n      <th>Lat</th>\n      <th>Lng</th>\n      <th>Max Temp</th>\n      <th>Humidity</th>\n      <th>Cloudiness</th>\n      <th>Wind Speed</th>\n      <th>Country</th>\n      <th>Date</th>\n    </tr>\n  </thead>\n  <tbody>\n    <tr>\n      <th>0</th>\n      <td>Husavik</td>\n      <td>66.0449</td>\n      <td>-17.3389</td>\n      <td>19.40</td>\n      <td>86</td>\n      <td>75</td>\n      <td>8.25</td>\n      <td>IS</td>\n      <td>2021-01-27 21:07:40</td>\n    </tr>\n    <tr>\n      <th>1</th>\n      <td>Lompoc</td>\n      <td>34.6391</td>\n      <td>-120.4579</td>\n      <td>51.80</td>\n      <td>93</td>\n      <td>90</td>\n      <td>13.80</td>\n      <td>US</td>\n      <td>2021-01-27 20:54:10</td>\n    </tr>\n    <tr>\n      <th>2</th>\n      <td>Weiser</td>\n      <td>44.2510</td>\n      <td>-116.9693</td>\n      <td>46.40</td>\n      <td>53</td>\n      <td>75</td>\n      <td>24.16</td>\n      <td>US</td>\n      <td>2021-01-27 21:08:32</td>\n    </tr>\n    <tr>\n      <th>3</th>\n      <td>Ushuaia</td>\n      <td>-54.8000</td>\n      <td>-68.3000</td>\n      <td>41.00</td>\n      <td>87</td>\n      <td>75</td>\n      <td>24.16</td>\n      <td>AR</td>\n      <td>2021-01-27 21:08:33</td>\n    </tr>\n    <tr>\n      <th>4</th>\n      <td>Hofn</td>\n      <td>64.2539</td>\n      <td>-15.2082</td>\n      <td>25.77</td>\n      <td>89</td>\n      <td>1</td>\n      <td>14.12</td>\n      <td>IS</td>\n      <td>2021-01-27 21:08:05</td>\n    </tr>\n    <tr>\n      <th>5</th>\n      <td>Port Alfred</td>\n      <td>-33.5906</td>\n      <td>26.8910</td>\n      <td>64.99</td>\n      <td>94</td>\n      <td>28</td>\n      <td>1.99</td>\n      <td>ZA</td>\n      <td>2021-01-27 21:08:33</td>\n    </tr>\n    <tr>\n      <th>6</th>\n      <td>Qaanaaq</td>\n      <td>77.4840</td>\n      <td>-69.3632</td>\n      <td>-15.74</td>\n      <td>65</td>\n      <td>0</td>\n      <td>8.37</td>\n      <td>GL</td>\n      <td>2021-01-27 21:08:33</td>\n    </tr>\n    <tr>\n      <th>7</th>\n      <td>Ust-Kuyga</td>\n      <td>70.0167</td>\n      <td>135.6000</td>\n      <td>-39.48</td>\n      <td>79</td>\n      <td>96</td>\n      <td>1.63</td>\n      <td>RU</td>\n      <td>2021-01-27 21:08:33</td>\n    </tr>\n    <tr>\n      <th>8</th>\n      <td>Kaitangata</td>\n      <td>-46.2817</td>\n      <td>169.8464</td>\n      <td>51.01</td>\n      <td>82</td>\n      <td>61</td>\n      <td>5.99</td>\n      <td>NZ</td>\n      <td>2021-01-27 21:03:49</td>\n    </tr>\n    <tr>\n      <th>9</th>\n      <td>Luganville</td>\n      <td>-15.5333</td>\n      <td>167.1667</td>\n      <td>76.59</td>\n      <td>89</td>\n      <td>100</td>\n      <td>7.92</td>\n      <td>VU</td>\n      <td>2021-01-27 21:08:34</td>\n    </tr>\n  </tbody>\n</table>\n</div>"
     },
     "metadata": {},
     "execution_count": 26
    }
   ],
   "source": [
    "# Convert the array of dictionaries to a Pandas DataFrame\n",
    "city_data_df = pd.DataFrame(city_data)\n",
    "city_data_df.head(10)"
   ]
  },
  {
   "cell_type": "code",
   "execution_count": 27,
   "metadata": {},
   "outputs": [
    {
     "output_type": "execute_result",
     "data": {
      "text/plain": [
       "          City Country                 Date      Lat       Lng  Max Temp  \\\n",
       "0      Husavik      IS  2021-01-27 21:07:40  66.0449  -17.3389     19.40   \n",
       "1       Lompoc      US  2021-01-27 20:54:10  34.6391 -120.4579     51.80   \n",
       "2       Weiser      US  2021-01-27 21:08:32  44.2510 -116.9693     46.40   \n",
       "3      Ushuaia      AR  2021-01-27 21:08:33 -54.8000  -68.3000     41.00   \n",
       "4         Hofn      IS  2021-01-27 21:08:05  64.2539  -15.2082     25.77   \n",
       "5  Port Alfred      ZA  2021-01-27 21:08:33 -33.5906   26.8910     64.99   \n",
       "6      Qaanaaq      GL  2021-01-27 21:08:33  77.4840  -69.3632    -15.74   \n",
       "7    Ust-Kuyga      RU  2021-01-27 21:08:33  70.0167  135.6000    -39.48   \n",
       "8   Kaitangata      NZ  2021-01-27 21:03:49 -46.2817  169.8464     51.01   \n",
       "9   Luganville      VU  2021-01-27 21:08:34 -15.5333  167.1667     76.59   \n",
       "\n",
       "   Humidity  Cloudiness  Wind Speed  \n",
       "0        86          75        8.25  \n",
       "1        93          90       13.80  \n",
       "2        53          75       24.16  \n",
       "3        87          75       24.16  \n",
       "4        89           1       14.12  \n",
       "5        94          28        1.99  \n",
       "6        65           0        8.37  \n",
       "7        79          96        1.63  \n",
       "8        82          61        5.99  \n",
       "9        89         100        7.92  "
      ],
      "text/html": "<div>\n<style scoped>\n    .dataframe tbody tr th:only-of-type {\n        vertical-align: middle;\n    }\n\n    .dataframe tbody tr th {\n        vertical-align: top;\n    }\n\n    .dataframe thead th {\n        text-align: right;\n    }\n</style>\n<table border=\"1\" class=\"dataframe\">\n  <thead>\n    <tr style=\"text-align: right;\">\n      <th></th>\n      <th>City</th>\n      <th>Country</th>\n      <th>Date</th>\n      <th>Lat</th>\n      <th>Lng</th>\n      <th>Max Temp</th>\n      <th>Humidity</th>\n      <th>Cloudiness</th>\n      <th>Wind Speed</th>\n    </tr>\n  </thead>\n  <tbody>\n    <tr>\n      <th>0</th>\n      <td>Husavik</td>\n      <td>IS</td>\n      <td>2021-01-27 21:07:40</td>\n      <td>66.0449</td>\n      <td>-17.3389</td>\n      <td>19.40</td>\n      <td>86</td>\n      <td>75</td>\n      <td>8.25</td>\n    </tr>\n    <tr>\n      <th>1</th>\n      <td>Lompoc</td>\n      <td>US</td>\n      <td>2021-01-27 20:54:10</td>\n      <td>34.6391</td>\n      <td>-120.4579</td>\n      <td>51.80</td>\n      <td>93</td>\n      <td>90</td>\n      <td>13.80</td>\n    </tr>\n    <tr>\n      <th>2</th>\n      <td>Weiser</td>\n      <td>US</td>\n      <td>2021-01-27 21:08:32</td>\n      <td>44.2510</td>\n      <td>-116.9693</td>\n      <td>46.40</td>\n      <td>53</td>\n      <td>75</td>\n      <td>24.16</td>\n    </tr>\n    <tr>\n      <th>3</th>\n      <td>Ushuaia</td>\n      <td>AR</td>\n      <td>2021-01-27 21:08:33</td>\n      <td>-54.8000</td>\n      <td>-68.3000</td>\n      <td>41.00</td>\n      <td>87</td>\n      <td>75</td>\n      <td>24.16</td>\n    </tr>\n    <tr>\n      <th>4</th>\n      <td>Hofn</td>\n      <td>IS</td>\n      <td>2021-01-27 21:08:05</td>\n      <td>64.2539</td>\n      <td>-15.2082</td>\n      <td>25.77</td>\n      <td>89</td>\n      <td>1</td>\n      <td>14.12</td>\n    </tr>\n    <tr>\n      <th>5</th>\n      <td>Port Alfred</td>\n      <td>ZA</td>\n      <td>2021-01-27 21:08:33</td>\n      <td>-33.5906</td>\n      <td>26.8910</td>\n      <td>64.99</td>\n      <td>94</td>\n      <td>28</td>\n      <td>1.99</td>\n    </tr>\n    <tr>\n      <th>6</th>\n      <td>Qaanaaq</td>\n      <td>GL</td>\n      <td>2021-01-27 21:08:33</td>\n      <td>77.4840</td>\n      <td>-69.3632</td>\n      <td>-15.74</td>\n      <td>65</td>\n      <td>0</td>\n      <td>8.37</td>\n    </tr>\n    <tr>\n      <th>7</th>\n      <td>Ust-Kuyga</td>\n      <td>RU</td>\n      <td>2021-01-27 21:08:33</td>\n      <td>70.0167</td>\n      <td>135.6000</td>\n      <td>-39.48</td>\n      <td>79</td>\n      <td>96</td>\n      <td>1.63</td>\n    </tr>\n    <tr>\n      <th>8</th>\n      <td>Kaitangata</td>\n      <td>NZ</td>\n      <td>2021-01-27 21:03:49</td>\n      <td>-46.2817</td>\n      <td>169.8464</td>\n      <td>51.01</td>\n      <td>82</td>\n      <td>61</td>\n      <td>5.99</td>\n    </tr>\n    <tr>\n      <th>9</th>\n      <td>Luganville</td>\n      <td>VU</td>\n      <td>2021-01-27 21:08:34</td>\n      <td>-15.5333</td>\n      <td>167.1667</td>\n      <td>76.59</td>\n      <td>89</td>\n      <td>100</td>\n      <td>7.92</td>\n    </tr>\n  </tbody>\n</table>\n</div>"
     },
     "metadata": {},
     "execution_count": 27
    }
   ],
   "source": [
    "new_column_order = ['City','Country','Date','Lat','Lng','Max Temp','Humidity','Cloudiness','Wind Speed']\n",
    "city_data_df = city_data_df[new_column_order]\n",
    "city_data_df.head(10)"
   ]
  },
  {
   "cell_type": "code",
   "execution_count": 29,
   "metadata": {},
   "outputs": [],
   "source": [
    "# Create an output fiel (CSV)\n",
    "output_data_file = 'weather_data/cities.csv'\n",
    "# Export the city_data to a CSV\n",
    "city_data_df.to_csv(output_data_file, index_label=\"City_ID\")"
   ]
  },
  {
   "cell_type": "code",
   "execution_count": null,
   "metadata": {},
   "outputs": [],
   "source": []
  }
 ]
}