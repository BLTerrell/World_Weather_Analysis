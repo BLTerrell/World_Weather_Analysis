{
 "cells": [
  {
   "cell_type": "markdown",
   "metadata": {},
   "source": [
    "## Deliverable 2. Create a Customer Travel Destinations Map."
   ]
  },
  {
   "cell_type": "code",
   "execution_count": 1,
   "metadata": {},
   "outputs": [],
   "source": [
    "# Dependencies and Setup\n",
    "import pandas as pd\n",
    "import requests\n",
    "import gmaps\n",
    "\n",
    "# Import API key\n",
    "from config import g_key\n",
    "\n",
    "# Configure gmaps API key\n",
    "gmaps.configure(api_key=g_key)"
   ]
  },
  {
   "cell_type": "code",
   "execution_count": 3,
   "metadata": {},
   "outputs": [
    {
     "output_type": "execute_result",
     "data": {
      "text/plain": [
       "   Unnamed: 0            City Country      Lat       Lng  Max Temp  Humidity  \\\n",
       "0           0           Vaini      TO -21.2000 -175.2000     75.20        94   \n",
       "1           1    Punta Arenas      CL -53.1500  -70.9167     48.20        71   \n",
       "2           2     East London      ZA -33.0153   27.9116     68.00        94   \n",
       "3           3       Upernavik      GL  72.7868  -56.1549     -9.38        85   \n",
       "4           4  Saint-Philippe      RE -21.3585   55.7679     86.00        54   \n",
       "\n",
       "   Cloudiness  Wind Speed Current Description  \n",
       "0          90        9.22          light rain  \n",
       "1           0       28.77           clear sky  \n",
       "2          20        2.30          few clouds  \n",
       "3          84        4.27       broken clouds  \n",
       "4           0        3.44          light rain  "
      ],
      "text/html": "<div>\n<style scoped>\n    .dataframe tbody tr th:only-of-type {\n        vertical-align: middle;\n    }\n\n    .dataframe tbody tr th {\n        vertical-align: top;\n    }\n\n    .dataframe thead th {\n        text-align: right;\n    }\n</style>\n<table border=\"1\" class=\"dataframe\">\n  <thead>\n    <tr style=\"text-align: right;\">\n      <th></th>\n      <th>Unnamed: 0</th>\n      <th>City</th>\n      <th>Country</th>\n      <th>Lat</th>\n      <th>Lng</th>\n      <th>Max Temp</th>\n      <th>Humidity</th>\n      <th>Cloudiness</th>\n      <th>Wind Speed</th>\n      <th>Current Description</th>\n    </tr>\n  </thead>\n  <tbody>\n    <tr>\n      <th>0</th>\n      <td>0</td>\n      <td>Vaini</td>\n      <td>TO</td>\n      <td>-21.2000</td>\n      <td>-175.2000</td>\n      <td>75.20</td>\n      <td>94</td>\n      <td>90</td>\n      <td>9.22</td>\n      <td>light rain</td>\n    </tr>\n    <tr>\n      <th>1</th>\n      <td>1</td>\n      <td>Punta Arenas</td>\n      <td>CL</td>\n      <td>-53.1500</td>\n      <td>-70.9167</td>\n      <td>48.20</td>\n      <td>71</td>\n      <td>0</td>\n      <td>28.77</td>\n      <td>clear sky</td>\n    </tr>\n    <tr>\n      <th>2</th>\n      <td>2</td>\n      <td>East London</td>\n      <td>ZA</td>\n      <td>-33.0153</td>\n      <td>27.9116</td>\n      <td>68.00</td>\n      <td>94</td>\n      <td>20</td>\n      <td>2.30</td>\n      <td>few clouds</td>\n    </tr>\n    <tr>\n      <th>3</th>\n      <td>3</td>\n      <td>Upernavik</td>\n      <td>GL</td>\n      <td>72.7868</td>\n      <td>-56.1549</td>\n      <td>-9.38</td>\n      <td>85</td>\n      <td>84</td>\n      <td>4.27</td>\n      <td>broken clouds</td>\n    </tr>\n    <tr>\n      <th>4</th>\n      <td>4</td>\n      <td>Saint-Philippe</td>\n      <td>RE</td>\n      <td>-21.3585</td>\n      <td>55.7679</td>\n      <td>86.00</td>\n      <td>54</td>\n      <td>0</td>\n      <td>3.44</td>\n      <td>light rain</td>\n    </tr>\n  </tbody>\n</table>\n</div>"
     },
     "metadata": {},
     "execution_count": 3
    }
   ],
   "source": [
    "# 1. Import the WeatherPy_database.csv file. \n",
    "city_data_df = pd.read_csv(\"../Weather_Database/WeatherPy_database.csv\")\n",
    "city_data_df.head()"
   ]
  },
  {
   "cell_type": "code",
   "execution_count": 4,
   "metadata": {},
   "outputs": [],
   "source": [
    "# 2. Prompt the user to enter minimum and maximum temperature criteria (5 pt)\n",
    "min_temp = float(input(\"What is the minimum temperature you would like for your trip? \"))\n",
    "max_temp = float(input(\"What is the maximum temperature you would like for your trip? \"))"
   ]
  },
  {
   "cell_type": "code",
   "execution_count": 12,
   "metadata": {},
   "outputs": [
    {
     "output_type": "execute_result",
     "data": {
      "text/plain": [
       "    Unnamed: 0            City Country      Lat       Lng  Max Temp  Humidity  \\\n",
       "0            0           Vaini      TO -21.2000 -175.2000     75.20        94   \n",
       "4            4  Saint-Philippe      RE -21.3585   55.7679     86.00        54   \n",
       "8            8           Tabou      CI   4.4230   -7.3528     77.94        89   \n",
       "11          11       Swan Hill      AU -35.3378  143.5544     82.00        20   \n",
       "17          17       Busselton      AU -33.6500  115.3333     90.00        37   \n",
       "19          19      Butaritari      KI   3.0707  172.7902     81.52        79   \n",
       "22          22            Hilo      US  19.7297 -155.0900     75.20        69   \n",
       "26          26          Faanui      PF -16.4833 -151.7500     82.42        67   \n",
       "28          28       Mahebourg      MU -20.4081   57.7000     80.60        78   \n",
       "38          38         Rikitea      PF -23.1203 -134.9692     79.43        73   \n",
       "\n",
       "    Cloudiness  Wind Speed Current Description  \n",
       "0           90        9.22          light rain  \n",
       "4            0        3.44          light rain  \n",
       "8            2        5.86           clear sky  \n",
       "11           0        7.67           clear sky  \n",
       "17           0        5.01           clear sky  \n",
       "19          52       18.25       broken clouds  \n",
       "22          75        4.61          light rain  \n",
       "26          97        5.93     overcast clouds  \n",
       "28          75        8.05       broken clouds  \n",
       "38          33       10.58    scattered clouds  "
      ],
      "text/html": "<div>\n<style scoped>\n    .dataframe tbody tr th:only-of-type {\n        vertical-align: middle;\n    }\n\n    .dataframe tbody tr th {\n        vertical-align: top;\n    }\n\n    .dataframe thead th {\n        text-align: right;\n    }\n</style>\n<table border=\"1\" class=\"dataframe\">\n  <thead>\n    <tr style=\"text-align: right;\">\n      <th></th>\n      <th>Unnamed: 0</th>\n      <th>City</th>\n      <th>Country</th>\n      <th>Lat</th>\n      <th>Lng</th>\n      <th>Max Temp</th>\n      <th>Humidity</th>\n      <th>Cloudiness</th>\n      <th>Wind Speed</th>\n      <th>Current Description</th>\n    </tr>\n  </thead>\n  <tbody>\n    <tr>\n      <th>0</th>\n      <td>0</td>\n      <td>Vaini</td>\n      <td>TO</td>\n      <td>-21.2000</td>\n      <td>-175.2000</td>\n      <td>75.20</td>\n      <td>94</td>\n      <td>90</td>\n      <td>9.22</td>\n      <td>light rain</td>\n    </tr>\n    <tr>\n      <th>4</th>\n      <td>4</td>\n      <td>Saint-Philippe</td>\n      <td>RE</td>\n      <td>-21.3585</td>\n      <td>55.7679</td>\n      <td>86.00</td>\n      <td>54</td>\n      <td>0</td>\n      <td>3.44</td>\n      <td>light rain</td>\n    </tr>\n    <tr>\n      <th>8</th>\n      <td>8</td>\n      <td>Tabou</td>\n      <td>CI</td>\n      <td>4.4230</td>\n      <td>-7.3528</td>\n      <td>77.94</td>\n      <td>89</td>\n      <td>2</td>\n      <td>5.86</td>\n      <td>clear sky</td>\n    </tr>\n    <tr>\n      <th>11</th>\n      <td>11</td>\n      <td>Swan Hill</td>\n      <td>AU</td>\n      <td>-35.3378</td>\n      <td>143.5544</td>\n      <td>82.00</td>\n      <td>20</td>\n      <td>0</td>\n      <td>7.67</td>\n      <td>clear sky</td>\n    </tr>\n    <tr>\n      <th>17</th>\n      <td>17</td>\n      <td>Busselton</td>\n      <td>AU</td>\n      <td>-33.6500</td>\n      <td>115.3333</td>\n      <td>90.00</td>\n      <td>37</td>\n      <td>0</td>\n      <td>5.01</td>\n      <td>clear sky</td>\n    </tr>\n    <tr>\n      <th>19</th>\n      <td>19</td>\n      <td>Butaritari</td>\n      <td>KI</td>\n      <td>3.0707</td>\n      <td>172.7902</td>\n      <td>81.52</td>\n      <td>79</td>\n      <td>52</td>\n      <td>18.25</td>\n      <td>broken clouds</td>\n    </tr>\n    <tr>\n      <th>22</th>\n      <td>22</td>\n      <td>Hilo</td>\n      <td>US</td>\n      <td>19.7297</td>\n      <td>-155.0900</td>\n      <td>75.20</td>\n      <td>69</td>\n      <td>75</td>\n      <td>4.61</td>\n      <td>light rain</td>\n    </tr>\n    <tr>\n      <th>26</th>\n      <td>26</td>\n      <td>Faanui</td>\n      <td>PF</td>\n      <td>-16.4833</td>\n      <td>-151.7500</td>\n      <td>82.42</td>\n      <td>67</td>\n      <td>97</td>\n      <td>5.93</td>\n      <td>overcast clouds</td>\n    </tr>\n    <tr>\n      <th>28</th>\n      <td>28</td>\n      <td>Mahebourg</td>\n      <td>MU</td>\n      <td>-20.4081</td>\n      <td>57.7000</td>\n      <td>80.60</td>\n      <td>78</td>\n      <td>75</td>\n      <td>8.05</td>\n      <td>broken clouds</td>\n    </tr>\n    <tr>\n      <th>38</th>\n      <td>38</td>\n      <td>Rikitea</td>\n      <td>PF</td>\n      <td>-23.1203</td>\n      <td>-134.9692</td>\n      <td>79.43</td>\n      <td>73</td>\n      <td>33</td>\n      <td>10.58</td>\n      <td>scattered clouds</td>\n    </tr>\n  </tbody>\n</table>\n</div>"
     },
     "metadata": {},
     "execution_count": 12
    }
   ],
   "source": [
    "# 3. Filter the city_data_df DataFrame using the input statements to create a new DataFrame using the loc method.\n",
    "clean_df = city_data_df.loc[(city_data_df[\"Max Temp\"] <= max_temp) &\n",
    "                                        (city_data_df[\"Max Temp\"] >= min_temp)]\n",
    "clean_df.head(10)"
   ]
  },
  {
   "cell_type": "code",
   "execution_count": 43,
   "metadata": {},
   "outputs": [
    {
     "output_type": "execute_result",
     "data": {
      "text/plain": [
       "Unnamed: 0  City   Country  Lat    Lng    Max Temp  Humidity  Cloudiness  Wind Speed  Current Description\n",
       "False       False  False    False  False  False     False     False       False       False                  152\n",
       "dtype: int64"
      ]
     },
     "metadata": {},
     "execution_count": 43
    }
   ],
   "source": [
    "# 4a. Determine if there are any empty rows.\n",
    "clean_df.isnull().value_counts()\n"
   ]
  },
  {
   "cell_type": "code",
   "execution_count": 48,
   "metadata": {},
   "outputs": [
    {
     "output_type": "execute_result",
     "data": {
      "text/plain": [
       "152"
      ]
     },
     "metadata": {},
     "execution_count": 48
    }
   ],
   "source": [
    "# 4b. Drop any empty rows and create a new DataFrame that doesn’t have empty rows. (5 pt)\n",
    "\n",
    "# Drop nulls\n",
    "clean_df = clean_df.dropna()\n",
    "\n",
    "# Drop blanks\n",
    "clean_df = clean_df.loc[(city_data_df[\"City\"] != '') &\n",
    "                         (city_data_df[\"Country\"] != '') &\n",
    "                         (city_data_df[\"Lat\"] != '') &\n",
    "                         (city_data_df[\"Lng\"] != '') &\n",
    "                         (city_data_df[\"Max Temp\"] != '') &\n",
    "                         (city_data_df[\"Humidity\"] != '') &\n",
    "                         (city_data_df[\"Cloudiness\"] != '') &\n",
    "                         (city_data_df[\"Wind Speed\"] != '') &\n",
    "                         (city_data_df[\"Current Description\"] != '')]\n",
    "\n",
    "len(clean_df2)"
   ]
  },
  {
   "cell_type": "code",
   "execution_count": 14,
   "metadata": {},
   "outputs": [
    {
     "output_type": "execute_result",
     "data": {
      "text/plain": [
       "              City Country  Max Temp Current Description      Lat       Lng  \\\n",
       "0            Vaini      TO     75.20          light rain -21.2000 -175.2000   \n",
       "4   Saint-Philippe      RE     86.00          light rain -21.3585   55.7679   \n",
       "8            Tabou      CI     77.94           clear sky   4.4230   -7.3528   \n",
       "11       Swan Hill      AU     82.00           clear sky -35.3378  143.5544   \n",
       "17       Busselton      AU     90.00           clear sky -33.6500  115.3333   \n",
       "19      Butaritari      KI     81.52       broken clouds   3.0707  172.7902   \n",
       "22            Hilo      US     75.20          light rain  19.7297 -155.0900   \n",
       "26          Faanui      PF     82.42     overcast clouds -16.4833 -151.7500   \n",
       "28       Mahebourg      MU     80.60       broken clouds -20.4081   57.7000   \n",
       "38         Rikitea      PF     79.43    scattered clouds -23.1203 -134.9692   \n",
       "\n",
       "   Hotel Name  \n",
       "0              \n",
       "4              \n",
       "8              \n",
       "11             \n",
       "17             \n",
       "19             \n",
       "22             \n",
       "26             \n",
       "28             \n",
       "38             "
      ],
      "text/html": "<div>\n<style scoped>\n    .dataframe tbody tr th:only-of-type {\n        vertical-align: middle;\n    }\n\n    .dataframe tbody tr th {\n        vertical-align: top;\n    }\n\n    .dataframe thead th {\n        text-align: right;\n    }\n</style>\n<table border=\"1\" class=\"dataframe\">\n  <thead>\n    <tr style=\"text-align: right;\">\n      <th></th>\n      <th>City</th>\n      <th>Country</th>\n      <th>Max Temp</th>\n      <th>Current Description</th>\n      <th>Lat</th>\n      <th>Lng</th>\n      <th>Hotel Name</th>\n    </tr>\n  </thead>\n  <tbody>\n    <tr>\n      <th>0</th>\n      <td>Vaini</td>\n      <td>TO</td>\n      <td>75.20</td>\n      <td>light rain</td>\n      <td>-21.2000</td>\n      <td>-175.2000</td>\n      <td></td>\n    </tr>\n    <tr>\n      <th>4</th>\n      <td>Saint-Philippe</td>\n      <td>RE</td>\n      <td>86.00</td>\n      <td>light rain</td>\n      <td>-21.3585</td>\n      <td>55.7679</td>\n      <td></td>\n    </tr>\n    <tr>\n      <th>8</th>\n      <td>Tabou</td>\n      <td>CI</td>\n      <td>77.94</td>\n      <td>clear sky</td>\n      <td>4.4230</td>\n      <td>-7.3528</td>\n      <td></td>\n    </tr>\n    <tr>\n      <th>11</th>\n      <td>Swan Hill</td>\n      <td>AU</td>\n      <td>82.00</td>\n      <td>clear sky</td>\n      <td>-35.3378</td>\n      <td>143.5544</td>\n      <td></td>\n    </tr>\n    <tr>\n      <th>17</th>\n      <td>Busselton</td>\n      <td>AU</td>\n      <td>90.00</td>\n      <td>clear sky</td>\n      <td>-33.6500</td>\n      <td>115.3333</td>\n      <td></td>\n    </tr>\n    <tr>\n      <th>19</th>\n      <td>Butaritari</td>\n      <td>KI</td>\n      <td>81.52</td>\n      <td>broken clouds</td>\n      <td>3.0707</td>\n      <td>172.7902</td>\n      <td></td>\n    </tr>\n    <tr>\n      <th>22</th>\n      <td>Hilo</td>\n      <td>US</td>\n      <td>75.20</td>\n      <td>light rain</td>\n      <td>19.7297</td>\n      <td>-155.0900</td>\n      <td></td>\n    </tr>\n    <tr>\n      <th>26</th>\n      <td>Faanui</td>\n      <td>PF</td>\n      <td>82.42</td>\n      <td>overcast clouds</td>\n      <td>-16.4833</td>\n      <td>-151.7500</td>\n      <td></td>\n    </tr>\n    <tr>\n      <th>28</th>\n      <td>Mahebourg</td>\n      <td>MU</td>\n      <td>80.60</td>\n      <td>broken clouds</td>\n      <td>-20.4081</td>\n      <td>57.7000</td>\n      <td></td>\n    </tr>\n    <tr>\n      <th>38</th>\n      <td>Rikitea</td>\n      <td>PF</td>\n      <td>79.43</td>\n      <td>scattered clouds</td>\n      <td>-23.1203</td>\n      <td>-134.9692</td>\n      <td></td>\n    </tr>\n  </tbody>\n</table>\n</div>"
     },
     "metadata": {},
     "execution_count": 14
    }
   ],
   "source": [
    "# 5a. Create DataFrame called hotel_df to store hotel names along with city, country, max temp, and coordinates. (10 pts)\n",
    "hotel_df = clean_df[[\"City\", \"Country\", \"Max Temp\", \"Current Description\", \"Lat\", \"Lng\"]].copy()\n",
    "\n",
    "# 5b. Create a new column \"Hotel Name\"\n",
    "hotel_df[\"Hotel Name\"] = \"\"\n",
    "hotel_df.head(10)"
   ]
  },
  {
   "cell_type": "code",
   "execution_count": 15,
   "metadata": {},
   "outputs": [
    {
     "output_type": "stream",
     "name": "stdout",
     "text": [
      "Hotel not found... skipping.\n",
      "Hotel not found... skipping.\n"
     ]
    }
   ],
   "source": [
    "# 6a. Set parameters to search for hotels with 5000 meters.\n",
    "params = {\n",
    "    \"radius\": 5000,\n",
    "    \"type\": \"lodging\",\n",
    "    \"key\": g_key\n",
    "}\n",
    "\n",
    "# 6b. Iterate through the hotel DataFrame.\n",
    "for index, row in hotel_df.iterrows():\n",
    "    # 6c. Get latitude and longitude from DataFrame\n",
    "    lat = row[\"Lat\"]\n",
    "    lng = row[\"Lng\"]\n",
    "    params[\"location\"] = f\"{lat},{lng}\"\n",
    "    # 6d. Set up the base URL for the Google Directions API to get JSON data.\n",
    "    base_url = 'https://maps.googleapis.com/maps/api/place/nearbysearch/json'\n",
    "\n",
    "    # 6e. Make request and retrieve the JSON data from the search. \n",
    "    hotels = requests.get(base_url, params=params).json()\n",
    "    \n",
    "    # 6f. Get the first hotel from the results and store the name, if a hotel isn't found skip the city.\n",
    "    try:\n",
    "        hotel_df.loc[index,\"Hotel Name\"] = hotels[\"results\"][0][\"name\"]\n",
    "    except (IndexError):\n",
    "        print(\"Hotel not found... skipping.\")"
   ]
  },
  {
   "cell_type": "code",
   "execution_count": 38,
   "metadata": {},
   "outputs": [
    {
     "output_type": "execute_result",
     "data": {
      "text/plain": [
       "               City Country  Max Temp Current Description      Lat       Lng  \\\n",
       "0             Vaini      TO     75.20          light rain -21.2000 -175.2000   \n",
       "4    Saint-Philippe      RE     86.00          light rain -21.3585   55.7679   \n",
       "8             Tabou      CI     77.94           clear sky   4.4230   -7.3528   \n",
       "11        Swan Hill      AU     82.00           clear sky -35.3378  143.5544   \n",
       "17        Busselton      AU     90.00           clear sky -33.6500  115.3333   \n",
       "..              ...     ...       ...                 ...      ...       ...   \n",
       "666        Imbituba      BR     78.80       broken clouds -28.2400  -48.6703   \n",
       "672       Loandjili      CG     79.03          light rain  -4.7561   11.8578   \n",
       "676            Maua      BR     75.99           clear sky -23.6678  -46.4614   \n",
       "677       Ewa Beach      US     77.00           clear sky  21.3156 -158.0072   \n",
       "684      Gold Coast      AU     84.00       broken clouds -28.0000  153.4333   \n",
       "\n",
       "                                    Hotel Name  \n",
       "0                          Keleti Beach Resort  \n",
       "4                 Chambres d'hôte \"La Trinité\"  \n",
       "8                           hotêl doufoulougou  \n",
       "11                        Lazy River Motor Inn  \n",
       "17                     Observatory Guest House  \n",
       "..                                         ...  \n",
       "666                       Praia Hotel Imbituba  \n",
       "672                         Résidence ARCHANGE  \n",
       "676                       Hotel Capriccio Mauá  \n",
       "677                               Base Lodging  \n",
       "684  Mantra Towers of Chevron Surfers Paradise  \n",
       "\n",
       "[150 rows x 7 columns]"
      ],
      "text/html": "<div>\n<style scoped>\n    .dataframe tbody tr th:only-of-type {\n        vertical-align: middle;\n    }\n\n    .dataframe tbody tr th {\n        vertical-align: top;\n    }\n\n    .dataframe thead th {\n        text-align: right;\n    }\n</style>\n<table border=\"1\" class=\"dataframe\">\n  <thead>\n    <tr style=\"text-align: right;\">\n      <th></th>\n      <th>City</th>\n      <th>Country</th>\n      <th>Max Temp</th>\n      <th>Current Description</th>\n      <th>Lat</th>\n      <th>Lng</th>\n      <th>Hotel Name</th>\n    </tr>\n  </thead>\n  <tbody>\n    <tr>\n      <th>0</th>\n      <td>Vaini</td>\n      <td>TO</td>\n      <td>75.20</td>\n      <td>light rain</td>\n      <td>-21.2000</td>\n      <td>-175.2000</td>\n      <td>Keleti Beach Resort</td>\n    </tr>\n    <tr>\n      <th>4</th>\n      <td>Saint-Philippe</td>\n      <td>RE</td>\n      <td>86.00</td>\n      <td>light rain</td>\n      <td>-21.3585</td>\n      <td>55.7679</td>\n      <td>Chambres d'hôte \"La Trinité\"</td>\n    </tr>\n    <tr>\n      <th>8</th>\n      <td>Tabou</td>\n      <td>CI</td>\n      <td>77.94</td>\n      <td>clear sky</td>\n      <td>4.4230</td>\n      <td>-7.3528</td>\n      <td>hotêl doufoulougou</td>\n    </tr>\n    <tr>\n      <th>11</th>\n      <td>Swan Hill</td>\n      <td>AU</td>\n      <td>82.00</td>\n      <td>clear sky</td>\n      <td>-35.3378</td>\n      <td>143.5544</td>\n      <td>Lazy River Motor Inn</td>\n    </tr>\n    <tr>\n      <th>17</th>\n      <td>Busselton</td>\n      <td>AU</td>\n      <td>90.00</td>\n      <td>clear sky</td>\n      <td>-33.6500</td>\n      <td>115.3333</td>\n      <td>Observatory Guest House</td>\n    </tr>\n    <tr>\n      <th>...</th>\n      <td>...</td>\n      <td>...</td>\n      <td>...</td>\n      <td>...</td>\n      <td>...</td>\n      <td>...</td>\n      <td>...</td>\n    </tr>\n    <tr>\n      <th>666</th>\n      <td>Imbituba</td>\n      <td>BR</td>\n      <td>78.80</td>\n      <td>broken clouds</td>\n      <td>-28.2400</td>\n      <td>-48.6703</td>\n      <td>Praia Hotel Imbituba</td>\n    </tr>\n    <tr>\n      <th>672</th>\n      <td>Loandjili</td>\n      <td>CG</td>\n      <td>79.03</td>\n      <td>light rain</td>\n      <td>-4.7561</td>\n      <td>11.8578</td>\n      <td>Résidence ARCHANGE</td>\n    </tr>\n    <tr>\n      <th>676</th>\n      <td>Maua</td>\n      <td>BR</td>\n      <td>75.99</td>\n      <td>clear sky</td>\n      <td>-23.6678</td>\n      <td>-46.4614</td>\n      <td>Hotel Capriccio Mauá</td>\n    </tr>\n    <tr>\n      <th>677</th>\n      <td>Ewa Beach</td>\n      <td>US</td>\n      <td>77.00</td>\n      <td>clear sky</td>\n      <td>21.3156</td>\n      <td>-158.0072</td>\n      <td>Base Lodging</td>\n    </tr>\n    <tr>\n      <th>684</th>\n      <td>Gold Coast</td>\n      <td>AU</td>\n      <td>84.00</td>\n      <td>broken clouds</td>\n      <td>-28.0000</td>\n      <td>153.4333</td>\n      <td>Mantra Towers of Chevron Surfers Paradise</td>\n    </tr>\n  </tbody>\n</table>\n<p>150 rows × 7 columns</p>\n</div>"
     },
     "metadata": {},
     "execution_count": 38
    }
   ],
   "source": [
    "# 7. Drop the rows where there is no Hotel Name. (10 pts)\n",
    "clean_hotel_df = hotel_df.loc[hotel_df[\"Hotel Name\"] != '']\n",
    "clean_hotel_df"
   ]
  },
  {
   "cell_type": "code",
   "execution_count": 50,
   "metadata": {},
   "outputs": [],
   "source": [
    "# 8a. Create the output File (CSV) (5pts)\n",
    "output_data_file = \"WeatherPy_Vacation.csv\"\n",
    "# 8b. Export the City_Data into a csv\n",
    "clean_hotel_df.to_csv(output_data_file, index_label=\"City_ID\")"
   ]
  },
  {
   "cell_type": "code",
   "execution_count": 64,
   "metadata": {},
   "outputs": [],
   "source": [
    "# 9. Using the template add city name, the country code, the weather description and maximum temperature for the city.\n",
    "info_box_template = \"\"\"\n",
    "<dl>\n",
    "<dt><b>Hotel Name</b></dt><dd>{Hotel Name}</dd>\n",
    "<dt><b>City</b></dt><dd>{City}</dd>\n",
    "<dt><b>Country</b></dt><dd>{Country}</dd>\n",
    "<dt><b>Current Weather</b></dt><dd>{Current Description} and {Max Temp} degrees Fahrenheit</dd>\n",
    "</dl>\n",
    "\"\"\"\n",
    "\n",
    "# 10a. Get the data from each row and add it to the formatting template and store the data in a list.\n",
    "hotel_info = [info_box_template.format(**row) for index, row in clean_hotel_df.iterrows()]\n",
    "\n",
    "# 10b. Get the latitude and longitude from each row and store in a new DataFrame.\n",
    "locations = clean_hotel_df[[\"Lat\", \"Lng\"]]"
   ]
  },
  {
   "cell_type": "code",
   "execution_count": 65,
   "metadata": {},
   "outputs": [
    {
     "output_type": "display_data",
     "data": {
      "text/plain": "Figure(layout=FigureLayout(height='420px'))",
      "application/vnd.jupyter.widget-view+json": {
       "version_major": 2,
       "version_minor": 0,
       "model_id": "dbd00e8d4dcf4affa83ae180ca567240"
      }
     },
     "metadata": {}
    }
   ],
   "source": [
    "# 11a. Add a marker layer for each city to the map. \n",
    "fig = gmaps.figure(center=(30.0,31.0), zoom_level=1.75)\n",
    "marker_layer = gmaps.marker_layer(locations,info_box_content=hotel_info)\n",
    "fig.add_layer(marker_layer)\n",
    "\n",
    "# 11b. Display the figure\n",
    "fig"
   ]
  },
  {
   "cell_type": "code",
   "execution_count": null,
   "metadata": {},
   "outputs": [],
   "source": []
  }
 ],
 "metadata": {
  "kernelspec": {
   "display_name": "PythonData",
   "language": "python",
   "name": "pythondata"
  },
  "language_info": {
   "codemirror_mode": {
    "name": "ipython",
    "version": 3
   },
   "file_extension": ".py",
   "mimetype": "text/x-python",
   "name": "python",
   "nbconvert_exporter": "python",
   "pygments_lexer": "ipython3",
   "version": "3.7.9-final"
  },
  "latex_envs": {
   "LaTeX_envs_menu_present": true,
   "autoclose": false,
   "autocomplete": true,
   "bibliofile": "biblio.bib",
   "cite_by": "apalike",
   "current_citInitial": 1,
   "eqLabelWithNumbers": true,
   "eqNumInitial": 1,
   "hotkeys": {
    "equation": "Ctrl-E",
    "itemize": "Ctrl-I"
   },
   "labels_anchors": false,
   "latex_user_defs": false,
   "report_style_numbering": false,
   "user_envs_cfg": false
  }
 },
 "nbformat": 4,
 "nbformat_minor": 2
}