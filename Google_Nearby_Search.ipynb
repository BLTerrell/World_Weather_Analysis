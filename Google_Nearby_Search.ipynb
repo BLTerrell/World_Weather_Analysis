{
 "metadata": {
  "language_info": {
   "codemirror_mode": {
    "name": "ipython",
    "version": 3
   },
   "file_extension": ".py",
   "mimetype": "text/x-python",
   "name": "python",
   "nbconvert_exporter": "python",
   "pygments_lexer": "ipython3",
   "version": "3.7.9-final"
  },
  "orig_nbformat": 2,
  "kernelspec": {
   "name": "python3",
   "display_name": "Python 3.7.9 64-bit ('PythonData': conda)",
   "metadata": {
    "interpreter": {
     "hash": "d0ce8657490faa1cd017f560ec43d4c2dd62527a50ff4cbff69cd1d61da732f4"
    }
   }
  }
 },
 "nbformat": 4,
 "nbformat_minor": 2,
 "cells": [
  {
   "cell_type": "code",
   "execution_count": 1,
   "metadata": {},
   "outputs": [],
   "source": [
    "# Set dependencies and Setup\n",
    "import requests\n",
    "import gmaps\n",
    "import pandas as pd\n",
    "\n",
    "# Import API key\n",
    "from config import g_key"
   ]
  },
  {
   "cell_type": "code",
   "execution_count": 2,
   "metadata": {},
   "outputs": [],
   "source": [
    "# Configure gmaps ti use your Google API key\n",
    "gmaps.configure(api_key=g_key)"
   ]
  },
  {
   "cell_type": "code",
   "execution_count": 3,
   "metadata": {},
   "outputs": [],
   "source": [
    "# set the parameters to search for a hotel in Paris\n",
    "params = {\n",
    "    \"radius\": 5000,\n",
    "    \"types\": \"lodging\",\n",
    "    \"key\": g_key,\n",
    "    \"location\": \"48.8566, 2.3522\"\n",
    "}\n",
    "\n",
    "# Use base URL to search for hotels in Paris\n",
    "base_url = 'https://maps.googleapis.com/maps/api/place/nearbysearch/json'\n",
    "\n",
    "# Make a request and get the JSON data from the search\n",
    "hotels = requests.get(base_url,params=params).json()\n"
   ]
  },
  {
   "cell_type": "code",
   "execution_count": 4,
   "metadata": {},
   "outputs": [
    {
     "output_type": "execute_result",
     "data": {
      "text/plain": [
       "20"
      ]
     },
     "metadata": {},
     "execution_count": 4
    }
   ],
   "source": [
    "len(hotels[\"results\"])"
   ]
  },
  {
   "cell_type": "code",
   "execution_count": 5,
   "metadata": {},
   "outputs": [
    {
     "output_type": "execute_result",
     "data": {
      "text/plain": [
       "   City_ID     City Country                 Date      Lat       Lng  Max Temp  \\\n",
       "0        0  Husavik      IS  2021-01-27 21:07:40  66.0449  -17.3389     19.40   \n",
       "1        1   Lompoc      US  2021-01-27 20:54:10  34.6391 -120.4579     51.80   \n",
       "2        2   Weiser      US  2021-01-27 21:08:32  44.2510 -116.9693     46.40   \n",
       "3        3  Ushuaia      AR  2021-01-27 21:08:33 -54.8000  -68.3000     41.00   \n",
       "4        4     Hofn      IS  2021-01-27 21:08:05  64.2539  -15.2082     25.77   \n",
       "\n",
       "   Humidity  Cloudiness  Wind Speed  \n",
       "0        86          75        8.25  \n",
       "1        93          90       13.80  \n",
       "2        53          75       24.16  \n",
       "3        87          75       24.16  \n",
       "4        89           1       14.12  "
      ],
      "text/html": "<div>\n<style scoped>\n    .dataframe tbody tr th:only-of-type {\n        vertical-align: middle;\n    }\n\n    .dataframe tbody tr th {\n        vertical-align: top;\n    }\n\n    .dataframe thead th {\n        text-align: right;\n    }\n</style>\n<table border=\"1\" class=\"dataframe\">\n  <thead>\n    <tr style=\"text-align: right;\">\n      <th></th>\n      <th>City_ID</th>\n      <th>City</th>\n      <th>Country</th>\n      <th>Date</th>\n      <th>Lat</th>\n      <th>Lng</th>\n      <th>Max Temp</th>\n      <th>Humidity</th>\n      <th>Cloudiness</th>\n      <th>Wind Speed</th>\n    </tr>\n  </thead>\n  <tbody>\n    <tr>\n      <th>0</th>\n      <td>0</td>\n      <td>Husavik</td>\n      <td>IS</td>\n      <td>2021-01-27 21:07:40</td>\n      <td>66.0449</td>\n      <td>-17.3389</td>\n      <td>19.40</td>\n      <td>86</td>\n      <td>75</td>\n      <td>8.25</td>\n    </tr>\n    <tr>\n      <th>1</th>\n      <td>1</td>\n      <td>Lompoc</td>\n      <td>US</td>\n      <td>2021-01-27 20:54:10</td>\n      <td>34.6391</td>\n      <td>-120.4579</td>\n      <td>51.80</td>\n      <td>93</td>\n      <td>90</td>\n      <td>13.80</td>\n    </tr>\n    <tr>\n      <th>2</th>\n      <td>2</td>\n      <td>Weiser</td>\n      <td>US</td>\n      <td>2021-01-27 21:08:32</td>\n      <td>44.2510</td>\n      <td>-116.9693</td>\n      <td>46.40</td>\n      <td>53</td>\n      <td>75</td>\n      <td>24.16</td>\n    </tr>\n    <tr>\n      <th>3</th>\n      <td>3</td>\n      <td>Ushuaia</td>\n      <td>AR</td>\n      <td>2021-01-27 21:08:33</td>\n      <td>-54.8000</td>\n      <td>-68.3000</td>\n      <td>41.00</td>\n      <td>87</td>\n      <td>75</td>\n      <td>24.16</td>\n    </tr>\n    <tr>\n      <th>4</th>\n      <td>4</td>\n      <td>Hofn</td>\n      <td>IS</td>\n      <td>2021-01-27 21:08:05</td>\n      <td>64.2539</td>\n      <td>-15.2082</td>\n      <td>25.77</td>\n      <td>89</td>\n      <td>1</td>\n      <td>14.12</td>\n    </tr>\n  </tbody>\n</table>\n</div>"
     },
     "metadata": {},
     "execution_count": 5
    }
   ],
   "source": [
    "city_data_df = pd.read_csv(\"weather_data/cities.csv\")\n",
    "city_data_df.head()"
   ]
  },
  {
   "cell_type": "code",
   "execution_count": 6,
   "metadata": {},
   "outputs": [],
   "source": [
    "# Ask the customer to add a minimum and maximum temperature value\n",
    "min_temp = float(input(\"What is the minimum temperature you would like for your trip? \"))\n",
    "max_temp = float(input(\"What is the maximum temperature you would like for your trip? \"))"
   ]
  },
  {
   "cell_type": "code",
   "execution_count": 7,
   "metadata": {},
   "outputs": [],
   "source": [
    "# Filter the data set to find the cities that fit the criteria \n",
    "preferred_cities_df = city_data_df.loc[(city_data_df[\"Max Temp\"] <= max_temp) &\n",
    "                                        (city_data_df[\"Max Temp\"] >= min_temp)]"
   ]
  },
  {
   "cell_type": "code",
   "execution_count": 8,
   "metadata": {},
   "outputs": [
    {
     "output_type": "execute_result",
     "data": {
      "text/plain": [
       "               City Country  Max Temp      Lat       Lng Hotel Name\n",
       "9        Luganville      VU     76.59 -15.5333  167.1667           \n",
       "10          Rikitea      PF     79.74 -23.1203 -134.9692           \n",
       "11       Butaritari      KI     80.56   3.0707  172.7902           \n",
       "13  Arraial Do Cabo      BR     84.20 -22.9661  -42.0278           \n",
       "14            Sosua      DO     82.40  19.7667  -70.5167           "
      ],
      "text/html": "<div>\n<style scoped>\n    .dataframe tbody tr th:only-of-type {\n        vertical-align: middle;\n    }\n\n    .dataframe tbody tr th {\n        vertical-align: top;\n    }\n\n    .dataframe thead th {\n        text-align: right;\n    }\n</style>\n<table border=\"1\" class=\"dataframe\">\n  <thead>\n    <tr style=\"text-align: right;\">\n      <th></th>\n      <th>City</th>\n      <th>Country</th>\n      <th>Max Temp</th>\n      <th>Lat</th>\n      <th>Lng</th>\n      <th>Hotel Name</th>\n    </tr>\n  </thead>\n  <tbody>\n    <tr>\n      <th>9</th>\n      <td>Luganville</td>\n      <td>VU</td>\n      <td>76.59</td>\n      <td>-15.5333</td>\n      <td>167.1667</td>\n      <td></td>\n    </tr>\n    <tr>\n      <th>10</th>\n      <td>Rikitea</td>\n      <td>PF</td>\n      <td>79.74</td>\n      <td>-23.1203</td>\n      <td>-134.9692</td>\n      <td></td>\n    </tr>\n    <tr>\n      <th>11</th>\n      <td>Butaritari</td>\n      <td>KI</td>\n      <td>80.56</td>\n      <td>3.0707</td>\n      <td>172.7902</td>\n      <td></td>\n    </tr>\n    <tr>\n      <th>13</th>\n      <td>Arraial Do Cabo</td>\n      <td>BR</td>\n      <td>84.20</td>\n      <td>-22.9661</td>\n      <td>-42.0278</td>\n      <td></td>\n    </tr>\n    <tr>\n      <th>14</th>\n      <td>Sosua</td>\n      <td>DO</td>\n      <td>82.40</td>\n      <td>19.7667</td>\n      <td>-70.5167</td>\n      <td></td>\n    </tr>\n  </tbody>\n</table>\n</div>"
     },
     "metadata": {},
     "execution_count": 8
    }
   ],
   "source": [
    "hotel_df = preferred_cities_df[[\"City\",\"Country\",\"Max Temp\",\"Lat\",\"Lng\"]].copy()\n",
    "hotel_df[\"Hotel Name\"] = \"\"\n",
    "hotel_df.head()"
   ]
  },
  {
   "cell_type": "code",
   "execution_count": 9,
   "metadata": {},
   "outputs": [
    {
     "output_type": "stream",
     "name": "stdout",
     "text": [
      "Hotel not found... skipping.\n",
      "Hotel not found... skipping.\n",
      "Hotel not found... skipping.\n",
      "Hotel not found... skipping.\n",
      "Hotel not found... skipping.\n",
      "Hotel not found... skipping.\n",
      "Hotel not found... skipping.\n"
     ]
    }
   ],
   "source": [
    "for index, row in hotel_df.iterrows():\n",
    "    # Get the latitude and longitude\n",
    "    lat = row[\"Lat\"]\n",
    "    lng = row[\"Lng\"]\n",
    "\n",
    "    # Add the latitude and longitude to location key for params dictionary \n",
    "    params[\"location\"] = f\"{lat},{lng}\"\n",
    "\n",
    "    # Use the search term: \"lodging\" and our lat and long\n",
    "    base_url = 'https://maps.googleapis.com/maps/api/place/nearbysearch/json'\n",
    "\n",
    "    # Make a request and get the JSON data from the search\n",
    "    hotels = requests.get(base_url, params=params).json()\n",
    "\n",
    "    # Grab the first hotel from the results and store the name\n",
    "    try:\n",
    "        hotel_df.loc[index,\"Hotel Name\"] = hotels[\"results\"][0][\"name\"]\n",
    "    except (IndexError):\n",
    "        print(\"Hotel not found... skipping.\")"
   ]
  },
  {
   "cell_type": "code",
   "execution_count": 10,
   "metadata": {},
   "outputs": [
    {
     "output_type": "execute_result",
     "data": {
      "text/plain": [
       "               City Country  Max Temp      Lat       Lng  \\\n",
       "9        Luganville      VU     76.59 -15.5333  167.1667   \n",
       "10          Rikitea      PF     79.74 -23.1203 -134.9692   \n",
       "11       Butaritari      KI     80.56   3.0707  172.7902   \n",
       "13  Arraial Do Cabo      BR     84.20 -22.9661  -42.0278   \n",
       "14            Sosua      DO     82.40  19.7667  -70.5167   \n",
       "\n",
       "                  Hotel Name  \n",
       "9         The Espiritu Hotel  \n",
       "10            Pension Maro'i  \n",
       "11        Isles Sunset Lodge  \n",
       "13       Pousada Porto Praia  \n",
       "14  Piergiorgio Palace Hotel  "
      ],
      "text/html": "<div>\n<style scoped>\n    .dataframe tbody tr th:only-of-type {\n        vertical-align: middle;\n    }\n\n    .dataframe tbody tr th {\n        vertical-align: top;\n    }\n\n    .dataframe thead th {\n        text-align: right;\n    }\n</style>\n<table border=\"1\" class=\"dataframe\">\n  <thead>\n    <tr style=\"text-align: right;\">\n      <th></th>\n      <th>City</th>\n      <th>Country</th>\n      <th>Max Temp</th>\n      <th>Lat</th>\n      <th>Lng</th>\n      <th>Hotel Name</th>\n    </tr>\n  </thead>\n  <tbody>\n    <tr>\n      <th>9</th>\n      <td>Luganville</td>\n      <td>VU</td>\n      <td>76.59</td>\n      <td>-15.5333</td>\n      <td>167.1667</td>\n      <td>The Espiritu Hotel</td>\n    </tr>\n    <tr>\n      <th>10</th>\n      <td>Rikitea</td>\n      <td>PF</td>\n      <td>79.74</td>\n      <td>-23.1203</td>\n      <td>-134.9692</td>\n      <td>Pension Maro'i</td>\n    </tr>\n    <tr>\n      <th>11</th>\n      <td>Butaritari</td>\n      <td>KI</td>\n      <td>80.56</td>\n      <td>3.0707</td>\n      <td>172.7902</td>\n      <td>Isles Sunset Lodge</td>\n    </tr>\n    <tr>\n      <th>13</th>\n      <td>Arraial Do Cabo</td>\n      <td>BR</td>\n      <td>84.20</td>\n      <td>-22.9661</td>\n      <td>-42.0278</td>\n      <td>Pousada Porto Praia</td>\n    </tr>\n    <tr>\n      <th>14</th>\n      <td>Sosua</td>\n      <td>DO</td>\n      <td>82.40</td>\n      <td>19.7667</td>\n      <td>-70.5167</td>\n      <td>Piergiorgio Palace Hotel</td>\n    </tr>\n  </tbody>\n</table>\n</div>"
     },
     "metadata": {},
     "execution_count": 10
    }
   ],
   "source": [
    "hotel_df.head()"
   ]
  },
  {
   "cell_type": "code",
   "execution_count": 17,
   "metadata": {},
   "outputs": [
    {
     "output_type": "display_data",
     "data": {
      "text/plain": "Figure(layout=FigureLayout(height='420px'))",
      "application/vnd.jupyter.widget-view+json": {
       "version_major": 2,
       "version_minor": 0,
       "model_id": "abc02bb0e59a48a98d8d212ded63be24"
      }
     },
     "metadata": {}
    }
   ],
   "source": [
    "# Add a heatmap of temperature for the vacation spots\n",
    "info_box_template = \"\"\"\n",
    "<dl>\n",
    "<dt><b>Hotel Name</b></dt><dd>{Hotel Name}</dd>\n",
    "<dt><b>City</b></dt><dd>{City}</dd>\n",
    "<dt><b>Country</b></dt><dd>{Country}</dd>\n",
    "<dt><b>Max Temp</b></dt><dd>{Max Temp}</dd>\n",
    "</dl>\n",
    "\"\"\"\n",
    "\n",
    "locations = hotel_df[[\"Lat\",\"Lng\"]]\n",
    "max_temp = hotel_df[\"Max Temp\"]\n",
    "hotel_info = [info_box_template.format(**row) for index, row in hotel_df.iterrows()]\n",
    "fig = gmaps.figure(center=(30.0,31.0), zoom_level=1.75)\n",
    "heat_layer = gmaps.heatmap_layer(locations,weights=max_temp,dissipating=False,max_intensity=300,point_radius=4)\n",
    "\n",
    "# Add a marker layer\n",
    "marker_layer = gmaps.marker_layer(locations,info_box_content=hotel_info)\n",
    "\n",
    "fig.add_layer(heat_layer)\n",
    "fig.add_layer(marker_layer)\n",
    "# Call the figure to plot the data\n",
    "fig"
   ]
  },
  {
   "cell_type": "code",
   "execution_count": null,
   "metadata": {},
   "outputs": [],
   "source": []
  }
 ]
}